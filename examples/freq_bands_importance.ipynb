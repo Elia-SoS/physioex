{
  "cells": [
    {
      "cell_type": "markdown",
      "metadata": {
        "id": "ArWP2I_WlHvO"
      },
      "source": [
        "### colab setup"
      ]
    },
    {
      "cell_type": "markdown",
      "metadata": {
        "id": "c2f8eASVlHvR"
      },
      "source": [
        "<a href=\"https://colab.research.google.com/github/e-cremente/physioex/blob/main/examples/freq_bands_importance.ipynb\" target=\"_parent\"><img src=\"https://colab.research.google.com/assets/colab-badge.svg\" alt=\"Open In Colab\"/></a>"
      ]
    },
    {
      "cell_type": "code",
      "execution_count": null,
      "metadata": {
        "id": "vdv3oz4wlHvS"
      },
      "outputs": [],
      "source": [
        "# colab setup\n",
        "from google.colab import drive\n",
        "drive.mount(\"/content/drive\")\n",
        "\n",
        "import os\n",
        "working_dir = \"/content/drive/MyDrive/Thesis\"\n",
        "os.chdir( working_dir )\n",
        "\n",
        "!git clone https://github.com/e-cremente/physioex.git\n",
        "%cd physioex\n",
        "\n",
        "!git pull origin main\n",
        "!pip install -e ."
      ]
    },
    {
      "cell_type": "code",
      "execution_count": 3,
      "metadata": {
        "colab": {
          "base_uri": "https://localhost:8080/"
        },
        "id": "TVyiMZUnlHvT",
        "outputId": "fa4863dc-3f2a-454a-d52a-ddd6f6748515"
      },
      "outputs": [
        {
          "name": "stderr",
          "output_type": "stream",
          "text": [
            "<frozen importlib._bootstrap>:241: FutureWarning: mne.io.pick.pick_types is deprecated will be removed in 1.6, use documented public API instead. If no appropriate public API exists, please open an issue on GitHub.\n",
            "<frozen importlib._bootstrap>:241: FutureWarning: mne.io.pick.pick_channels_regexp is deprecated will be removed in 1.6, use documented public API instead. If no appropriate public API exists, please open an issue on GitHub.\n",
            "<frozen importlib._bootstrap>:241: FutureWarning: mne.io.pick.channel_type is deprecated will be removed in 1.6, use documented public API instead. If no appropriate public API exists, please open an issue on GitHub.\n",
            "/usr/local/lib/python3.10/dist-packages/moabb/pipelines/__init__.py:26: ModuleNotFoundError: Tensorflow is not installed. You won't be able to use these MOABB pipelines if you attempt to do so.\n",
            "  warn(\n",
            "/usr/local/lib/python3.10/dist-packages/braindecode/preprocessing/preprocess.py:55: UserWarning: Preprocessing choices with lambda functions cannot be saved.\n",
            "  warn('Preprocessing choices with lambda functions cannot be saved.')\n",
            "\u001b[32m2024-01-20 20:47:27.170\u001b[0m | \u001b[1mINFO    \u001b[0m | \u001b[36mphysioex.explain.base\u001b[0m:\u001b[36m__init__\u001b[0m:\u001b[36m49\u001b[0m - \u001b[1mScanning checkpoint directory...\u001b[0m\n",
            "\u001b[32m2024-01-20 20:47:27.758\u001b[0m | \u001b[1mINFO    \u001b[0m | \u001b[36mphysioex.explain.base\u001b[0m:\u001b[36m__init__\u001b[0m:\u001b[36m60\u001b[0m - \u001b[1mFound 10 checkpoints\u001b[0m\n",
            "\u001b[32m2024-01-20 20:47:27.760\u001b[0m | \u001b[1mINFO    \u001b[0m | \u001b[36mphysioex.explain.base\u001b[0m:\u001b[36m__init__\u001b[0m:\u001b[36m64\u001b[0m - \u001b[1mLoading dataset\u001b[0m\n",
            "\u001b[32m2024-01-20 20:47:27.765\u001b[0m | \u001b[1mINFO    \u001b[0m | \u001b[36mphysioex.data.utils\u001b[0m:\u001b[36mread_cache\u001b[0m:\u001b[36m11\u001b[0m - \u001b[1mReading chache from temp/dreem_dodh.pkl\u001b[0m\n",
            "\u001b[32m2024-01-20 20:47:33.816\u001b[0m | \u001b[1mINFO    \u001b[0m | \u001b[36mphysioex.explain.base\u001b[0m:\u001b[36m__init__\u001b[0m:\u001b[36m67\u001b[0m - \u001b[1mDataset loaded\u001b[0m\n"
          ]
        }
      ],
      "source": [
        "%matplotlib inline\n",
        "import matplotlib.pyplot as plt\n",
        "import matplotlib.image as mpimg\n",
        "\n",
        "from physioex.explain.freq_bands_explainer import FreqBandsExplainer\n",
        "from loguru import logger\n",
        "\n",
        "ckp_path = \"models/cel/chambon2018/seqlen=3/dreem/dodh/\"\n",
        "\n",
        "expl = FreqBandsExplainer(\n",
        "            model_name = \"chambon2018\",\n",
        "            dataset_name  = \"dreem\",\n",
        "            version = \"dodh\",\n",
        "            use_cache = True,\n",
        "            sequence_lenght  = 3,\n",
        "            ckp_path = ckp_path,\n",
        "            batch_size  = 32,\n",
        "            #questo parametro da un errore. Non e' previsto dal costruttore della classe FreqBandsExplainer (e.c.)\n",
        "            #n_jobs = 1\n",
        "            )"
      ]
    },
    {
      "cell_type": "code",
      "execution_count": null,
      "metadata": {
        "id": "iE-WjjnglHvU"
      },
      "outputs": [],
      "source": [
        "#cambiato Gamma da [30, 50] a [30, 49.5] perche' con un sampling rate di 100hz, il filtro che tagliasse fuori frequenze di 50hz non era applicabile (e.c.)\n",
        "sleep_bands = [[8, 11.5], [11.5, 15.5], [15.5, 30], [0.5, 4], [4, 8], [30, 49.5]]\n",
        "sleep_bands_names = ['Alpha', 'Sigma', 'Beta', 'Delta', 'Theta', 'Gamma']\n",
        "\n",
        "expl.explain(sleep_bands, sleep_bands_names, save_csv= True,  plot_pred = True, plot_true = True, n_jobs = 1)\n",
        "\n",
        "for i in range(len(sleep_bands)):    \n",
        "    # plot the results of the 0 fold\n",
        "    img = mpimg.imread( ckp_path + 'fold=0_true_band=' + sleep_bands_names[i] + '_importance.png')\n",
        "    imgplot = plt.imshow(img)\n",
        "    plt.show()\n",
        "\n",
        "    img = mpimg.imread( ckp_path + 'fold=0_pred_band=' + sleep_bands_names[i] + '_importance.png')\n",
        "    imgplot = plt.imshow(img)\n",
        "    plt.show()\n"
      ]
    }
  ],
  "metadata": {
    "accelerator": "GPU",
    "colab": {
      "gpuType": "T4",
      "include_colab_link": true,
      "provenance": []
    },
    "kernelspec": {
      "display_name": "Python 3",
      "name": "python3"
    },
    "language_info": {
      "name": "python"
    }
  },
  "nbformat": 4,
  "nbformat_minor": 0
}
