{
 "cells": [
  {
   "cell_type": "code",
   "execution_count": 1,
   "metadata": {},
   "outputs": [
    {
     "name": "stderr",
     "output_type": "stream",
     "text": [
      "/tmp/ipykernel_2499757/3297475300.py:3: DeprecationWarning: Use of .. or absolute path in a resource path is not allowed and will raise exceptions in a future release.\n",
      "  path = pkg.resource_filename(__name__, \"../\")\n"
     ]
    }
   ],
   "source": [
    "import pkg_resources as pkg\n",
    "\n",
    "path = pkg.resource_filename(__name__, \"../\")\n",
    "\n",
    "import os\n",
    "\n",
    "os.chdir(path)"
   ]
  },
  {
   "cell_type": "code",
   "execution_count": 2,
   "metadata": {
    "colab": {
     "base_uri": "https://localhost:8080/"
    },
    "id": "TVyiMZUnlHvT",
    "outputId": "2d8a2332-af5c-4fd8-db0a-cd73bfc2b83a"
   },
   "outputs": [
    {
     "name": "stderr",
     "output_type": "stream",
     "text": [
      "<frozen importlib._bootstrap>:241: FutureWarning: mne.io.pick.pick_types is deprecated will be removed in 1.6, use documented public API instead. If no appropriate public API exists, please open an issue on GitHub.\n",
      "<frozen importlib._bootstrap>:241: FutureWarning: mne.io.pick.pick_channels_regexp is deprecated will be removed in 1.6, use documented public API instead. If no appropriate public API exists, please open an issue on GitHub.\n",
      "<frozen importlib._bootstrap>:241: FutureWarning: mne.io.pick.channel_type is deprecated will be removed in 1.6, use documented public API instead. If no appropriate public API exists, please open an issue on GitHub.\n",
      "/home/guido/miniconda3/envs/physioex/lib/python3.10/site-packages/moabb/pipelines/__init__.py:26: ModuleNotFoundError: Tensorflow is not installed. You won't be able to use these MOABB pipelines if you attempt to do so.\n",
      "  warn(\n",
      "/home/guido/miniconda3/envs/physioex/lib/python3.10/site-packages/braindecode/preprocessing/preprocess.py:55: UserWarning: Preprocessing choices with lambda functions cannot be saved.\n",
      "  warn('Preprocessing choices with lambda functions cannot be saved.')\n",
      "/home/guido/miniconda3/envs/physioex/lib/python3.10/site-packages/tqdm/auto.py:21: TqdmWarning: IProgress not found. Please update jupyter and ipywidgets. See https://ipywidgets.readthedocs.io/en/stable/user_install.html\n",
      "  from .autonotebook import tqdm as notebook_tqdm\n",
      "\u001b[32m2024-02-29 12:53:01.452\u001b[0m | \u001b[1mINFO    \u001b[0m | \u001b[36mphysioex.explain.base\u001b[0m:\u001b[36m__init__\u001b[0m:\u001b[36m46\u001b[0m - \u001b[1mScanning checkpoint directory...\u001b[0m\n",
      "\u001b[32m2024-02-29 12:53:01.454\u001b[0m | \u001b[1mINFO    \u001b[0m | \u001b[36mphysioex.explain.base\u001b[0m:\u001b[36m__init__\u001b[0m:\u001b[36m60\u001b[0m - \u001b[1mFound 10 checkpoints\u001b[0m\n",
      "\u001b[32m2024-02-29 12:53:01.455\u001b[0m | \u001b[1mINFO    \u001b[0m | \u001b[36mphysioex.explain.base\u001b[0m:\u001b[36m__init__\u001b[0m:\u001b[36m64\u001b[0m - \u001b[1mLoading dataset\u001b[0m\n",
      "\u001b[32m2024-02-29 12:53:01.456\u001b[0m | \u001b[1mINFO    \u001b[0m | \u001b[36mphysioex.data.utils\u001b[0m:\u001b[36mread_cache\u001b[0m:\u001b[36m12\u001b[0m - \u001b[1mReading chache from temp/dreem_dodh.pkl\u001b[0m\n",
      "\u001b[32m2024-02-29 12:53:01.857\u001b[0m | \u001b[1mINFO    \u001b[0m | \u001b[36mphysioex.explain.base\u001b[0m:\u001b[36m__init__\u001b[0m:\u001b[36m67\u001b[0m - \u001b[1mDataset loaded\u001b[0m\n"
     ]
    }
   ],
   "source": [
    "import matplotlib.pyplot as plt\n",
    "import matplotlib.image as mpimg\n",
    "\n",
    "from physioex.explain.bands import FreqBandsExplainer\n",
    "from loguru import logger\n",
    "\n",
    "ckp_path = \"models/cel/chambon2018/seqlen=3/dreem/dodh/\"\n",
    "\n",
    "expl = FreqBandsExplainer(\n",
    "    model_name=\"chambon2018\",\n",
    "    dataset_name=\"dreem\",\n",
    "    version=\"dodh\",\n",
    "    use_cache=True,\n",
    "    sequence_lenght=3,\n",
    "    ckp_path=ckp_path,\n",
    "    batch_size=32,\n",
    ")"
   ]
  },
  {
   "cell_type": "code",
   "execution_count": 3,
   "metadata": {},
   "outputs": [
    {
     "name": "stderr",
     "output_type": "stream",
     "text": [
      "\u001b[32m2024-02-29 12:53:01.871\u001b[0m | \u001b[1mINFO    \u001b[0m | \u001b[36mphysioex.explain.bands.explainer\u001b[0m:\u001b[36mcompute_band_importance\u001b[0m:\u001b[36m116\u001b[0m - \u001b[1mJOB:2-Loading model <class 'physioex.train.networks.chambon2018.Chambon2018Net'> from checkpoint models/cel/chambon2018/seqlen=3/dreem/dodh/fold=2-epoch=16-step=9880-val_acc=0.86.ckpt\u001b[0m\n",
      "\u001b[32m2024-02-29 12:53:02.480\u001b[0m | \u001b[1mINFO    \u001b[0m | \u001b[36mphysioex.explain.bands.explainer\u001b[0m:\u001b[36mcompute_band_importance\u001b[0m:\u001b[36m128\u001b[0m - \u001b[1mJOB:2-Splitting dataset into train, validation and test sets\u001b[0m\n",
      "\u001b[32m2024-02-29 12:53:02.805\u001b[0m | \u001b[1mINFO    \u001b[0m | \u001b[36mphysioex.data.dreem\u001b[0m:\u001b[36msplit\u001b[0m:\u001b[36m205\u001b[0m - \u001b[1mTrain shape X (19028, 1, 3000), y (19028,)\u001b[0m\n",
      "\u001b[32m2024-02-29 12:53:02.807\u001b[0m | \u001b[1mINFO    \u001b[0m | \u001b[36mphysioex.data.dreem\u001b[0m:\u001b[36msplit\u001b[0m:\u001b[36m206\u001b[0m - \u001b[1mValid shape X (4039, 1, 3000), y (4039,)\u001b[0m\n",
      "\u001b[32m2024-02-29 12:53:02.808\u001b[0m | \u001b[1mINFO    \u001b[0m | \u001b[36mphysioex.data.dreem\u001b[0m:\u001b[36msplit\u001b[0m:\u001b[36m207\u001b[0m - \u001b[1mTest shape X (1595, 1, 3000), y (1595,)\u001b[0m\n",
      "\u001b[32m2024-02-29 12:53:04.514\u001b[0m | \u001b[1mINFO    \u001b[0m | \u001b[36mphysioex.explain.bands.explainer\u001b[0m:\u001b[36mcompute_band_importance\u001b[0m:\u001b[36m145\u001b[0m - \u001b[1mJOB:2-Computing bands importance\u001b[0m\n",
      "100%|██████████| 595/595 [03:08<00:00,  3.16it/s]\n",
      "\u001b[32m2024-02-29 12:56:12.769\u001b[0m | \u001b[1mINFO    \u001b[0m | \u001b[36mphysioex.explain.bands.explainer\u001b[0m:\u001b[36mcompute_band_importance\u001b[0m:\u001b[36m154\u001b[0m - \u001b[1mJOB:2-Saving explanations\u001b[0m\n"
     ]
    },
    {
     "ename": "",
     "evalue": "",
     "output_type": "error",
     "traceback": [
      "\u001b[1;31mSi è verificato un arresto anomalo del Kernel durante l'esecuzione del codice nella cella attiva o in una cella precedente. \n",
      "\u001b[1;31mEsaminare il codice nelle celle per identificare una possibile causa dell'errore. \n",
      "\u001b[1;31mPer altre informazioni, fare clic<a href='https://aka.ms/vscodeJupyterKernelCrash'>qui</a>. \n",
      "\u001b[1;31mPer ulteriori dettagli, visualizzare Jupyter <a href='command:jupyter.viewOutput'>log</a>."
     ]
    }
   ],
   "source": [
    "sleep_bands = [[0.5, 4], [4, 8], [8, 11.5], [11.5, 15.5], [15.5, 30], [30, 49.5]]\n",
    "sleep_bands_names = [\"Delta\", \"Theta\", \"Alpha\", \"Sigma\", \"Beta\", \"Gamma\"]\n",
    "\n",
    "expl.explain(\n",
    "    sleep_bands, sleep_bands_names, plot_pred=True, plot_true=True, compute_time=False, save = False\n",
    ")"
   ]
  },
  {
   "cell_type": "code",
   "execution_count": null,
   "metadata": {},
   "outputs": [],
   "source": []
  }
 ],
 "metadata": {
  "accelerator": "GPU",
  "colab": {
   "gpuType": "T4",
   "provenance": []
  },
  "kernelspec": {
   "display_name": "Python 3",
   "name": "python3"
  },
  "language_info": {
   "codemirror_mode": {
    "name": "ipython",
    "version": 3
   },
   "file_extension": ".py",
   "mimetype": "text/x-python",
   "name": "python",
   "nbconvert_exporter": "python",
   "pygments_lexer": "ipython3",
   "version": "3.10.0"
  }
 },
 "nbformat": 4,
 "nbformat_minor": 0
}
