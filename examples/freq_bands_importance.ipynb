{
 "cells": [
  {
   "cell_type": "markdown",
   "metadata": {},
   "source": [
    "### colab setup"
   ]
  },
  {
   "cell_type": "markdown",
   "metadata": {},
   "source": [
    "<a href=\"https://colab.research.google.com/github/e-cremente/physioex/blob/main/examples/freq_bands_importance.ipynb\" target=\"_parent\"><img src=\"https://colab.research.google.com/assets/colab-badge.svg\" alt=\"Open In Colab\"/></a>"
   ]
  },
  {
   "cell_type": "code",
   "execution_count": null,
   "metadata": {},
   "outputs": [],
   "source": [
    "# colab setup\n",
    "from google.colab import drive\n",
    "drive.mount(\"/content/drive\")\n",
    "\n",
    "import os\n",
    "working_dir = \"/content/drive/MyDrive/Thesis\"\n",
    "os.chdir( working_dir )\n",
    "\n",
    "!git clone https://github.com/e-cremente/physioex.git\n",
    "%cd physioex\n",
    "\n",
    "!git pull origin main\n",
    "!pip install -e ."
   ]
  },
  {
   "cell_type": "code",
   "execution_count": null,
   "metadata": {},
   "outputs": [],
   "source": [
    "%matplotlib inline\n",
    "import matplotlib.pyplot as plt\n",
    "import matplotlib.image as mpimg\n",
    "\n",
    "from physioex.explain.freq_bands_explainer import FreqBandsExplainer\n",
    "from loguru import logger\n",
    "\n",
    "ckp_path = \"models/cel/chambon2018/seqlen=3/dreem/dodh/\"\n",
    "\n",
    "expl = FreqBandsExplainer(\n",
    "            model_name = \"chambon2018\", \n",
    "            dataset_name  = \"dreem\", \n",
    "            version = \"dodh\", \n",
    "            use_cache = True, \n",
    "            sequence_lenght  = 3,\n",
    "            ckp_path = ckp_path, \n",
    "            batch_size  = 32,\n",
    "            #questo parametro da un errore. Non e' previsto dal costruttore della classe FreqBandsExplainer (e.c.)\n",
    "            #n_jobs = 1\n",
    "            )"
   ]
  },
  {
   "cell_type": "code",
   "execution_count": null,
   "metadata": {},
   "outputs": [],
   "source": [
    "#cambiato Gamma da [30, 50] a [30, 49.5] perche' con un sampling rate di 100hz, il filtro che tagliasse fuori frequenze di 50hz non era applicabile (e.c.)\n",
    "sleep_bands = { 'Alpha' : [8, 12], 'Beta' : [12, 30], 'Delta' : [0.5, 4], 'Theta' : [4, 8], 'Gamma' : [30, 49.5] }\n",
    "\n",
    "for band in sleep_bands:\n",
    "    logger.info(\"Explaining band: {}\".format(band))\n",
    "\n",
    "    #il numero di jobs viene invece specificato qui, come ultimo parametro della chiamata del metodo (e.c.)\n",
    "    expl.explain(sleep_bands[band], band_name = format(band), save_csv= True,  plot_pred = True, plot_true = True, n_jobs = 1)\n",
    "\n",
    "    # plot the results of the 0 fold\n",
    "    #cambiato str(band) in str(sleep_bands[band]) per prendere le immagini corrette\n",
    "    img = mpimg.imread( ckp_path + 'fold=0_true_band=' + str(sleep_bands[band]) + '_importance.png')\n",
    "    imgplot = plt.imshow(img)\n",
    "    plt.show()\n",
    "    \n",
    "    img = mpimg.imread( ckp_path + 'fold=0_pred_band=' + str(sleep_bands[band]) + '_importance.png')\n",
    "    imgplot = plt.imshow(img)\n",
    "    plt.show()\n"
   ]
  }
 ],
 "metadata": {
  "language_info": {
   "name": "python"
  }
 },
 "nbformat": 4,
 "nbformat_minor": 2
}
