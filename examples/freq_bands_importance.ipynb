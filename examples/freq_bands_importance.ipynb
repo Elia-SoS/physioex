{
 "cells": [
  {
   "cell_type": "code",
   "execution_count": 1,
   "metadata": {},
   "outputs": [
    {
     "name": "stderr",
     "output_type": "stream",
     "text": [
      "/tmp/ipykernel_761020/4031198830.py:2: DeprecationWarning: Use of .. or absolute path in a resource path is not allowed and will raise exceptions in a future release.\n",
      "  path = pkg.resource_filename(__name__, \"../\")\n"
     ]
    }
   ],
   "source": [
    "import pkg_resources as pkg\n",
    "\n",
    "path = pkg.resource_filename(__name__, \"../\")\n",
    "\n",
    "import os\n",
    "\n",
    "os.chdir(path)"
   ]
  },
  {
   "cell_type": "code",
   "execution_count": 2,
   "metadata": {
    "colab": {
     "base_uri": "https://localhost:8080/"
    },
    "id": "TVyiMZUnlHvT",
    "outputId": "2d8a2332-af5c-4fd8-db0a-cd73bfc2b83a"
   },
   "outputs": [
    {
     "name": "stderr",
     "output_type": "stream",
     "text": [
      "<frozen importlib._bootstrap>:241: FutureWarning: mne.io.pick.pick_types is deprecated will be removed in 1.6, use documented public API instead. If no appropriate public API exists, please open an issue on GitHub.\n",
      "<frozen importlib._bootstrap>:241: FutureWarning: mne.io.pick.pick_channels_regexp is deprecated will be removed in 1.6, use documented public API instead. If no appropriate public API exists, please open an issue on GitHub.\n",
      "<frozen importlib._bootstrap>:241: FutureWarning: mne.io.pick.channel_type is deprecated will be removed in 1.6, use documented public API instead. If no appropriate public API exists, please open an issue on GitHub.\n",
      "/home/guido/miniconda3/envs/physioex/lib/python3.10/site-packages/moabb/pipelines/__init__.py:26: ModuleNotFoundError: Tensorflow is not installed. You won't be able to use these MOABB pipelines if you attempt to do so.\n",
      "  warn(\n",
      "/home/guido/miniconda3/envs/physioex/lib/python3.10/site-packages/braindecode/preprocessing/preprocess.py:55: UserWarning: Preprocessing choices with lambda functions cannot be saved.\n",
      "  warn('Preprocessing choices with lambda functions cannot be saved.')\n",
      "/home/guido/miniconda3/envs/physioex/lib/python3.10/site-packages/tqdm/auto.py:21: TqdmWarning: IProgress not found. Please update jupyter and ipywidgets. See https://ipywidgets.readthedocs.io/en/stable/user_install.html\n",
      "  from .autonotebook import tqdm as notebook_tqdm\n",
      "\u001b[32m2024-02-28 15:37:31.497\u001b[0m | \u001b[1mINFO    \u001b[0m | \u001b[36mphysioex.explain.base\u001b[0m:\u001b[36m__init__\u001b[0m:\u001b[36m46\u001b[0m - \u001b[1mScanning checkpoint directory...\u001b[0m\n",
      "\u001b[32m2024-02-28 15:37:31.500\u001b[0m | \u001b[1mINFO    \u001b[0m | \u001b[36mphysioex.explain.base\u001b[0m:\u001b[36m__init__\u001b[0m:\u001b[36m60\u001b[0m - \u001b[1mFound 10 checkpoints\u001b[0m\n",
      "\u001b[32m2024-02-28 15:37:31.501\u001b[0m | \u001b[1mINFO    \u001b[0m | \u001b[36mphysioex.explain.base\u001b[0m:\u001b[36m__init__\u001b[0m:\u001b[36m64\u001b[0m - \u001b[1mLoading dataset\u001b[0m\n",
      "\u001b[32m2024-02-28 15:37:31.502\u001b[0m | \u001b[1mINFO    \u001b[0m | \u001b[36mphysioex.data.utils\u001b[0m:\u001b[36mread_cache\u001b[0m:\u001b[36m12\u001b[0m - \u001b[1mReading chache from temp/dreem_dodh.pkl\u001b[0m\n",
      "\u001b[32m2024-02-28 15:37:31.933\u001b[0m | \u001b[1mINFO    \u001b[0m | \u001b[36mphysioex.explain.base\u001b[0m:\u001b[36m__init__\u001b[0m:\u001b[36m67\u001b[0m - \u001b[1mDataset loaded\u001b[0m\n"
     ]
    }
   ],
   "source": [
    "import matplotlib.pyplot as plt\n",
    "import matplotlib.image as mpimg\n",
    "\n",
    "from physioex.explain.bands import FreqBandsExplainer\n",
    "from loguru import logger\n",
    "\n",
    "ckp_path = \"models/cel/chambon2018/seqlen=3/dreem/dodh/\"\n",
    "\n",
    "expl = FreqBandsExplainer(\n",
    "    model_name=\"chambon2018\",\n",
    "    dataset_name=\"dreem\",\n",
    "    version=\"dodh\",\n",
    "    use_cache=True,\n",
    "    sequence_lenght=3,\n",
    "    ckp_path=ckp_path,\n",
    "    batch_size=32,\n",
    ")"
   ]
  },
  {
   "cell_type": "code",
   "execution_count": 3,
   "metadata": {},
   "outputs": [
    {
     "name": "stderr",
     "output_type": "stream",
     "text": [
      "\u001b[32m2024-02-28 15:37:31.947\u001b[0m | \u001b[1mINFO    \u001b[0m | \u001b[36mphysioex.explain.bands.explainer\u001b[0m:\u001b[36mcompute_band_importance\u001b[0m:\u001b[36m111\u001b[0m - \u001b[1mJOB:2-Loading model <class 'physioex.train.networks.chambon2018.Chambon2018Net'> from checkpoint models/cel/chambon2018/seqlen=3/dreem/dodh/fold=2-epoch=16-step=9880-val_acc=0.86.ckpt\u001b[0m\n",
      "\u001b[32m2024-02-28 15:37:32.585\u001b[0m | \u001b[1mINFO    \u001b[0m | \u001b[36mphysioex.explain.bands.explainer\u001b[0m:\u001b[36mcompute_band_importance\u001b[0m:\u001b[36m123\u001b[0m - \u001b[1mJOB:2-Splitting dataset into train, validation and test sets\u001b[0m\n",
      "\u001b[32m2024-02-28 15:37:32.947\u001b[0m | \u001b[1mINFO    \u001b[0m | \u001b[36mphysioex.data.dreem\u001b[0m:\u001b[36msplit\u001b[0m:\u001b[36m205\u001b[0m - \u001b[1mTrain shape X (19028, 1, 3000), y (19028,)\u001b[0m\n",
      "\u001b[32m2024-02-28 15:37:32.950\u001b[0m | \u001b[1mINFO    \u001b[0m | \u001b[36mphysioex.data.dreem\u001b[0m:\u001b[36msplit\u001b[0m:\u001b[36m206\u001b[0m - \u001b[1mValid shape X (4039, 1, 3000), y (4039,)\u001b[0m\n",
      "\u001b[32m2024-02-28 15:37:32.951\u001b[0m | \u001b[1mINFO    \u001b[0m | \u001b[36mphysioex.data.dreem\u001b[0m:\u001b[36msplit\u001b[0m:\u001b[36m207\u001b[0m - \u001b[1mTest shape X (1595, 1, 3000), y (1595,)\u001b[0m\n",
      "\u001b[32m2024-02-28 15:37:34.791\u001b[0m | \u001b[1mINFO    \u001b[0m | \u001b[36mphysioex.explain.bands.explainer\u001b[0m:\u001b[36mcompute_band_importance\u001b[0m:\u001b[36m140\u001b[0m - \u001b[1mJOB:2-Computing bands importance\u001b[0m\n",
      "  0%|          | 0/595 [00:00<?, ?it/s]/home/guido/github/dev/physioex/physioex/explain/bands/importance.py:98: UserWarning: Implicit dimension choice for softmax has been deprecated. Change the call to include dim=X as an argument.\n",
      "  probas = F.softmax(model(inputs.to(device)).cpu()).detach().numpy()\n",
      "/home/guido/github/dev/physioex/physioex/explain/bands/importance.py:59: UserWarning: Implicit dimension choice for softmax has been deprecated. Change the call to include dim=X as an argument.\n",
      "  band_score = F.softmax(model(inputs.to(device)).cpu()).detach().numpy()\n",
      "  0%|          | 2/595 [00:15<1:18:12,  7.91s/it]\n",
      "\u001b[32m2024-02-28 15:37:50.625\u001b[0m | \u001b[1mINFO    \u001b[0m | \u001b[36mphysioex.explain.bands.explainer\u001b[0m:\u001b[36mcompute_band_importance\u001b[0m:\u001b[36m147\u001b[0m - \u001b[1mJOB:2-Saving explanations\u001b[0m\n",
      "\u001b[32m2024-02-28 15:37:52.041\u001b[0m | \u001b[1mINFO    \u001b[0m | \u001b[36mphysioex.explain.bands.explainer\u001b[0m:\u001b[36mcompute_band_importance\u001b[0m:\u001b[36m152\u001b[0m - \u001b[1mJOB:2-Explanations saved\u001b[0m\n",
      "\u001b[32m2024-02-28 15:37:54.215\u001b[0m | \u001b[1mINFO    \u001b[0m | \u001b[36mphysioex.explain.bands.explainer\u001b[0m:\u001b[36mcompute_band_importance\u001b[0m:\u001b[36m111\u001b[0m - \u001b[1mJOB:5-Loading model <class 'physioex.train.networks.chambon2018.Chambon2018Net'> from checkpoint models/cel/chambon2018/seqlen=3/dreem/dodh/fold=5-epoch=15-step=8955-val_acc=0.86.ckpt\u001b[0m\n",
      "\u001b[32m2024-02-28 15:37:54.489\u001b[0m | \u001b[1mINFO    \u001b[0m | \u001b[36mphysioex.explain.bands.explainer\u001b[0m:\u001b[36mcompute_band_importance\u001b[0m:\u001b[36m123\u001b[0m - \u001b[1mJOB:5-Splitting dataset into train, validation and test sets\u001b[0m\n",
      "\u001b[32m2024-02-28 15:37:54.817\u001b[0m | \u001b[1mINFO    \u001b[0m | \u001b[36mphysioex.data.dreem\u001b[0m:\u001b[36msplit\u001b[0m:\u001b[36m205\u001b[0m - \u001b[1mTrain shape X (18695, 1, 3000), y (18695,)\u001b[0m\n",
      "\u001b[32m2024-02-28 15:37:54.819\u001b[0m | \u001b[1mINFO    \u001b[0m | \u001b[36mphysioex.data.dreem\u001b[0m:\u001b[36msplit\u001b[0m:\u001b[36m206\u001b[0m - \u001b[1mValid shape X (4039, 1, 3000), y (4039,)\u001b[0m\n",
      "\u001b[32m2024-02-28 15:37:54.821\u001b[0m | \u001b[1mINFO    \u001b[0m | \u001b[36mphysioex.data.dreem\u001b[0m:\u001b[36msplit\u001b[0m:\u001b[36m207\u001b[0m - \u001b[1mTest shape X (1928, 1, 3000), y (1928,)\u001b[0m\n",
      "\u001b[32m2024-02-28 15:37:56.853\u001b[0m | \u001b[1mINFO    \u001b[0m | \u001b[36mphysioex.explain.bands.explainer\u001b[0m:\u001b[36mcompute_band_importance\u001b[0m:\u001b[36m140\u001b[0m - \u001b[1mJOB:5-Computing bands importance\u001b[0m\n",
      "  0%|          | 0/585 [00:00<?, ?it/s]/home/guido/github/dev/physioex/physioex/explain/bands/importance.py:98: UserWarning: Implicit dimension choice for softmax has been deprecated. Change the call to include dim=X as an argument.\n",
      "  probas = F.softmax(model(inputs.to(device)).cpu()).detach().numpy()\n",
      "/home/guido/github/dev/physioex/physioex/explain/bands/importance.py:59: UserWarning: Implicit dimension choice for softmax has been deprecated. Change the call to include dim=X as an argument.\n",
      "  band_score = F.softmax(model(inputs.to(device)).cpu()).detach().numpy()\n",
      "  0%|          | 2/585 [00:16<1:19:39,  8.20s/it]\n",
      "\u001b[32m2024-02-28 15:38:13.260\u001b[0m | \u001b[1mINFO    \u001b[0m | \u001b[36mphysioex.explain.bands.explainer\u001b[0m:\u001b[36mcompute_band_importance\u001b[0m:\u001b[36m147\u001b[0m - \u001b[1mJOB:5-Saving explanations\u001b[0m\n",
      "\u001b[32m2024-02-28 15:38:14.726\u001b[0m | \u001b[1mINFO    \u001b[0m | \u001b[36mphysioex.explain.bands.explainer\u001b[0m:\u001b[36mcompute_band_importance\u001b[0m:\u001b[36m152\u001b[0m - \u001b[1mJOB:5-Explanations saved\u001b[0m\n",
      "\u001b[32m2024-02-28 15:38:16.546\u001b[0m | \u001b[1mINFO    \u001b[0m | \u001b[36mphysioex.explain.bands.explainer\u001b[0m:\u001b[36mcompute_band_importance\u001b[0m:\u001b[36m111\u001b[0m - \u001b[1mJOB:0-Loading model <class 'physioex.train.networks.chambon2018.Chambon2018Net'> from checkpoint models/cel/chambon2018/seqlen=3/dreem/dodh/fold=0-epoch=14-step=8600-val_acc=0.87.ckpt\u001b[0m\n",
      "\u001b[32m2024-02-28 15:38:16.780\u001b[0m | \u001b[1mINFO    \u001b[0m | \u001b[36mphysioex.explain.bands.explainer\u001b[0m:\u001b[36mcompute_band_importance\u001b[0m:\u001b[36m123\u001b[0m - \u001b[1mJOB:0-Splitting dataset into train, validation and test sets\u001b[0m\n",
      "\u001b[32m2024-02-28 15:38:17.242\u001b[0m | \u001b[1mINFO    \u001b[0m | \u001b[36mphysioex.data.dreem\u001b[0m:\u001b[36msplit\u001b[0m:\u001b[36m205\u001b[0m - \u001b[1mTrain shape X (19028, 1, 3000), y (19028,)\u001b[0m\n",
      "\u001b[32m2024-02-28 15:38:17.244\u001b[0m | \u001b[1mINFO    \u001b[0m | \u001b[36mphysioex.data.dreem\u001b[0m:\u001b[36msplit\u001b[0m:\u001b[36m206\u001b[0m - \u001b[1mValid shape X (3560, 1, 3000), y (3560,)\u001b[0m\n",
      "\u001b[32m2024-02-28 15:38:17.246\u001b[0m | \u001b[1mINFO    \u001b[0m | \u001b[36mphysioex.data.dreem\u001b[0m:\u001b[36msplit\u001b[0m:\u001b[36m207\u001b[0m - \u001b[1mTest shape X (2074, 1, 3000), y (2074,)\u001b[0m\n",
      "\u001b[32m2024-02-28 15:38:18.996\u001b[0m | \u001b[1mINFO    \u001b[0m | \u001b[36mphysioex.explain.bands.explainer\u001b[0m:\u001b[36mcompute_band_importance\u001b[0m:\u001b[36m140\u001b[0m - \u001b[1mJOB:0-Computing bands importance\u001b[0m\n",
      "  0%|          | 0/595 [00:00<?, ?it/s]/home/guido/github/dev/physioex/physioex/explain/bands/importance.py:98: UserWarning: Implicit dimension choice for softmax has been deprecated. Change the call to include dim=X as an argument.\n",
      "  probas = F.softmax(model(inputs.to(device)).cpu()).detach().numpy()\n",
      "/home/guido/github/dev/physioex/physioex/explain/bands/importance.py:59: UserWarning: Implicit dimension choice for softmax has been deprecated. Change the call to include dim=X as an argument.\n",
      "  band_score = F.softmax(model(inputs.to(device)).cpu()).detach().numpy()\n",
      "  0%|          | 2/595 [00:11<58:48,  5.95s/it]\n"
     ]
    },
    {
     "ename": "KeyboardInterrupt",
     "evalue": "",
     "output_type": "error",
     "traceback": [
      "\u001b[0;31m---------------------------------------------------------------------------\u001b[0m",
      "\u001b[0;31mKeyboardInterrupt\u001b[0m                         Traceback (most recent call last)",
      "Cell \u001b[0;32mIn[3], line 4\u001b[0m\n\u001b[1;32m      1\u001b[0m sleep_bands \u001b[38;5;241m=\u001b[39m [[\u001b[38;5;241m0.5\u001b[39m, \u001b[38;5;241m4\u001b[39m], [\u001b[38;5;241m4\u001b[39m, \u001b[38;5;241m8\u001b[39m], [\u001b[38;5;241m8\u001b[39m, \u001b[38;5;241m11.5\u001b[39m], [\u001b[38;5;241m11.5\u001b[39m, \u001b[38;5;241m15.5\u001b[39m], [\u001b[38;5;241m15.5\u001b[39m, \u001b[38;5;241m30\u001b[39m], [\u001b[38;5;241m30\u001b[39m, \u001b[38;5;241m49.5\u001b[39m]]\n\u001b[1;32m      2\u001b[0m sleep_bands_names \u001b[38;5;241m=\u001b[39m [\u001b[38;5;124m'\u001b[39m\u001b[38;5;124mDelta\u001b[39m\u001b[38;5;124m'\u001b[39m, \u001b[38;5;124m'\u001b[39m\u001b[38;5;124mTheta\u001b[39m\u001b[38;5;124m'\u001b[39m, \u001b[38;5;124m'\u001b[39m\u001b[38;5;124mAlpha\u001b[39m\u001b[38;5;124m'\u001b[39m, \u001b[38;5;124m'\u001b[39m\u001b[38;5;124mSigma\u001b[39m\u001b[38;5;124m'\u001b[39m, \u001b[38;5;124m'\u001b[39m\u001b[38;5;124mBeta\u001b[39m\u001b[38;5;124m'\u001b[39m, \u001b[38;5;124m'\u001b[39m\u001b[38;5;124mGamma\u001b[39m\u001b[38;5;124m'\u001b[39m]\n\u001b[0;32m----> 4\u001b[0m \u001b[43mexpl\u001b[49m\u001b[38;5;241;43m.\u001b[39;49m\u001b[43mexplain\u001b[49m\u001b[43m(\u001b[49m\u001b[43msleep_bands\u001b[49m\u001b[43m,\u001b[49m\u001b[43m \u001b[49m\u001b[43msleep_bands_names\u001b[49m\u001b[43m,\u001b[49m\u001b[43m \u001b[49m\u001b[43mplot_pred\u001b[49m\u001b[43m \u001b[49m\u001b[38;5;241;43m=\u001b[39;49m\u001b[43m \u001b[49m\u001b[38;5;28;43;01mTrue\u001b[39;49;00m\u001b[43m,\u001b[49m\u001b[43m \u001b[49m\u001b[43mplot_true\u001b[49m\u001b[43m \u001b[49m\u001b[38;5;241;43m=\u001b[39;49m\u001b[43m \u001b[49m\u001b[38;5;28;43;01mTrue\u001b[39;49;00m\u001b[43m,\u001b[49m\u001b[43m \u001b[49m\u001b[43mcompute_time\u001b[49m\u001b[38;5;241;43m=\u001b[39;49m\u001b[38;5;28;43;01mFalse\u001b[39;49;00m\u001b[43m)\u001b[49m\n",
      "File \u001b[0;32m~/github/dev/physioex/physioex/explain/bands/explainer.py:184\u001b[0m, in \u001b[0;36mFreqBandsExplainer.explain\u001b[0;34m(self, bands, band_names, compute_time, plot_pred, plot_true, n_jobs)\u001b[0m\n\u001b[1;32m    173\u001b[0m \u001b[38;5;28;01mdef\u001b[39;00m \u001b[38;5;21mexplain\u001b[39m(\n\u001b[1;32m    174\u001b[0m     \u001b[38;5;28mself\u001b[39m,\n\u001b[1;32m    175\u001b[0m     bands: List[List[\u001b[38;5;28mfloat\u001b[39m]],\n\u001b[0;32m   (...)\u001b[0m\n\u001b[1;32m    180\u001b[0m     n_jobs: \u001b[38;5;28mint\u001b[39m \u001b[38;5;241m=\u001b[39m \u001b[38;5;241m10\u001b[39m,\n\u001b[1;32m    181\u001b[0m ):\n\u001b[1;32m    183\u001b[0m     \u001b[38;5;28;01mfor\u001b[39;00m fold \u001b[38;5;129;01min\u001b[39;00m \u001b[38;5;28mself\u001b[39m\u001b[38;5;241m.\u001b[39mcheckpoints\u001b[38;5;241m.\u001b[39mkeys():\n\u001b[0;32m--> 184\u001b[0m         \u001b[38;5;28;43mself\u001b[39;49m\u001b[38;5;241;43m.\u001b[39;49m\u001b[43mcompute_band_importance\u001b[49m\u001b[43m(\u001b[49m\n\u001b[1;32m    185\u001b[0m \u001b[43m            \u001b[49m\u001b[43mbands\u001b[49m\u001b[43m,\u001b[49m\u001b[43m \u001b[49m\u001b[43mband_names\u001b[49m\u001b[43m,\u001b[49m\u001b[43m \u001b[49m\u001b[38;5;28;43mint\u001b[39;49m\u001b[43m(\u001b[49m\u001b[43mfold\u001b[49m\u001b[43m)\u001b[49m\u001b[43m,\u001b[49m\u001b[43m \u001b[49m\u001b[43mplot_pred\u001b[49m\u001b[43m,\u001b[49m\u001b[43m \u001b[49m\u001b[43mplot_true\u001b[49m\u001b[43m,\u001b[49m\u001b[43m \u001b[49m\u001b[43mcompute_time\u001b[49m\n\u001b[1;32m    186\u001b[0m \u001b[43m        \u001b[49m\u001b[43m)\u001b[49m\n\u001b[1;32m    187\u001b[0m     \u001b[38;5;28;01mreturn\u001b[39;00m\n",
      "File \u001b[0;32m~/github/dev/physioex/physioex/explain/bands/explainer.py:143\u001b[0m, in \u001b[0;36mFreqBandsExplainer.compute_band_importance\u001b[0;34m(self, bands, band_names, fold, plot_class, plot_band, compute_time)\u001b[0m\n\u001b[1;32m    140\u001b[0m logger\u001b[38;5;241m.\u001b[39minfo(\u001b[38;5;124m\"\u001b[39m\u001b[38;5;124mJOB:\u001b[39m\u001b[38;5;132;01m%d\u001b[39;00m\u001b[38;5;124m-Computing bands importance\u001b[39m\u001b[38;5;124m\"\u001b[39m \u001b[38;5;241m%\u001b[39m fold)\n\u001b[1;32m    141\u001b[0m filename \u001b[38;5;241m=\u001b[39m \u001b[38;5;28mself\u001b[39m\u001b[38;5;241m.\u001b[39mckpt_path \u001b[38;5;241m+\u001b[39m \u001b[38;5;124m\"\u001b[39m\u001b[38;5;124mexplanations_fold_\u001b[39m\u001b[38;5;124m\"\u001b[39m \u001b[38;5;241m+\u001b[39m \u001b[38;5;28mstr\u001b[39m(fold) \u001b[38;5;241m+\u001b[39m \u001b[38;5;124m\"\u001b[39m\u001b[38;5;124m.pt\u001b[39m\u001b[38;5;124m\"\u001b[39m\n\u001b[0;32m--> 143\u001b[0m explanations \u001b[38;5;241m=\u001b[39m \u001b[43mcompute_band_importance\u001b[49m\u001b[43m(\u001b[49m\n\u001b[1;32m    144\u001b[0m \u001b[43m    \u001b[49m\u001b[43mbands\u001b[49m\u001b[43m,\u001b[49m\u001b[43m \u001b[49m\u001b[43mmodel\u001b[49m\u001b[43m,\u001b[49m\u001b[43m \u001b[49m\u001b[43mdataloader\u001b[49m\u001b[43m,\u001b[49m\u001b[43m \u001b[49m\u001b[38;5;28;43mself\u001b[39;49m\u001b[38;5;241;43m.\u001b[39;49m\u001b[43msampling_rate\u001b[49m\u001b[43m,\u001b[49m\u001b[43m \u001b[49m\u001b[43mcompute_time\u001b[49m\n\u001b[1;32m    145\u001b[0m \u001b[43m\u001b[49m\u001b[43m)\u001b[49m\n\u001b[1;32m    147\u001b[0m logger\u001b[38;5;241m.\u001b[39minfo(\u001b[38;5;124m\"\u001b[39m\u001b[38;5;124mJOB:\u001b[39m\u001b[38;5;132;01m%d\u001b[39;00m\u001b[38;5;124m-Saving explanations\u001b[39m\u001b[38;5;124m\"\u001b[39m \u001b[38;5;241m%\u001b[39m fold)\n\u001b[1;32m    149\u001b[0m \u001b[38;5;28;01mwith\u001b[39;00m \u001b[38;5;28mopen\u001b[39m(filename, \u001b[38;5;124m\"\u001b[39m\u001b[38;5;124mwb\u001b[39m\u001b[38;5;124m\"\u001b[39m) \u001b[38;5;28;01mas\u001b[39;00m f:\n",
      "File \u001b[0;32m~/github/dev/physioex/physioex/explain/bands/importance.py:105\u001b[0m, in \u001b[0;36mband_importance\u001b[0;34m(bands, model, dataloader, sampling_rate, compute_time)\u001b[0m\n\u001b[1;32m    102\u001b[0m mean \u001b[38;5;241m=\u001b[39m MeanImportance(n_class, \u001b[38;5;28mlen\u001b[39m(bands), inputs\u001b[38;5;241m.\u001b[39mshape)\n\u001b[1;32m    104\u001b[0m \u001b[38;5;28;01mfor\u001b[39;00m combination \u001b[38;5;129;01min\u001b[39;00m combinations:\n\u001b[0;32m--> 105\u001b[0m     band_score, time_importance \u001b[38;5;241m=\u001b[39m \u001b[43mfiltered_band_importance\u001b[49m\u001b[43m(\u001b[49m\n\u001b[1;32m    106\u001b[0m \u001b[43m        \u001b[49m\u001b[43m[\u001b[49m\u001b[43mbands\u001b[49m\u001b[43m[\u001b[49m\u001b[43mi\u001b[49m\u001b[43m]\u001b[49m\u001b[43m \u001b[49m\u001b[38;5;28;43;01mfor\u001b[39;49;00m\u001b[43m \u001b[49m\u001b[43mi\u001b[49m\u001b[43m \u001b[49m\u001b[38;5;129;43;01min\u001b[39;49;00m\u001b[43m \u001b[49m\u001b[38;5;28;43mrange\u001b[39;49m\u001b[43m(\u001b[49m\u001b[38;5;28;43mlen\u001b[39;49m\u001b[43m(\u001b[49m\u001b[43mbands\u001b[49m\u001b[43m)\u001b[49m\u001b[43m)\u001b[49m\u001b[43m \u001b[49m\u001b[38;5;28;43;01mif\u001b[39;49;00m\u001b[43m \u001b[49m\u001b[43mcombination\u001b[49m\u001b[43m[\u001b[49m\u001b[43mi\u001b[49m\u001b[43m]\u001b[49m\u001b[43m \u001b[49m\u001b[38;5;241;43m==\u001b[39;49m\u001b[43m \u001b[49m\u001b[38;5;241;43m1\u001b[39;49m\u001b[43m]\u001b[49m\u001b[43m,\u001b[49m\n\u001b[1;32m    107\u001b[0m \u001b[43m        \u001b[49m\u001b[43mmodel\u001b[49m\u001b[43m,\u001b[49m\n\u001b[1;32m    108\u001b[0m \u001b[43m        \u001b[49m\u001b[43minputs\u001b[49m\u001b[43m,\u001b[49m\n\u001b[1;32m    109\u001b[0m \u001b[43m        \u001b[49m\u001b[43msampling_rate\u001b[49m\u001b[43m,\u001b[49m\n\u001b[1;32m    110\u001b[0m \u001b[43m        \u001b[49m\u001b[43mcompute_time\u001b[49m\u001b[43m,\u001b[49m\n\u001b[1;32m    111\u001b[0m \u001b[43m    \u001b[49m\u001b[43m)\u001b[49m\n\u001b[1;32m    113\u001b[0m     band_importance \u001b[38;5;241m=\u001b[39m probas \u001b[38;5;241m-\u001b[39m band_score\n\u001b[1;32m    115\u001b[0m     mean\u001b[38;5;241m.\u001b[39mupdate(combination, band_importance, time_importance)\n",
      "File \u001b[0;32m~/github/dev/physioex/physioex/explain/bands/importance.py:51\u001b[0m, in \u001b[0;36mfiltered_band_importance\u001b[0;34m(bands, model, inputs, sampling_rate, compute_time)\u001b[0m\n\u001b[1;32m     48\u001b[0m     sos \u001b[38;5;241m=\u001b[39m signal\u001b[38;5;241m.\u001b[39mbutter(order, [low, high], btype\u001b[38;5;241m=\u001b[39m\u001b[38;5;124m\"\u001b[39m\u001b[38;5;124mbandstop\u001b[39m\u001b[38;5;124m\"\u001b[39m, output\u001b[38;5;241m=\u001b[39m\u001b[38;5;124m\"\u001b[39m\u001b[38;5;124msos\u001b[39m\u001b[38;5;124m\"\u001b[39m)\n\u001b[1;32m     50\u001b[0m     \u001b[38;5;28;01mfor\u001b[39;00m index \u001b[38;5;129;01min\u001b[39;00m \u001b[38;5;28mrange\u001b[39m(batch_size):\n\u001b[0;32m---> 51\u001b[0m         inputs[index] \u001b[38;5;241m=\u001b[39m \u001b[43msignal\u001b[49m\u001b[38;5;241;43m.\u001b[39;49m\u001b[43msosfilt\u001b[49m\u001b[43m(\u001b[49m\u001b[43msos\u001b[49m\u001b[43m,\u001b[49m\u001b[43m \u001b[49m\u001b[43minputs\u001b[49m\u001b[43m[\u001b[49m\u001b[43mindex\u001b[49m\u001b[43m]\u001b[49m\u001b[43m)\u001b[49m\n\u001b[1;32m     53\u001b[0m inputs \u001b[38;5;241m=\u001b[39m inputs\u001b[38;5;241m.\u001b[39mreshape(batch_size, seq_len, n_channels, n_samples)\n\u001b[1;32m     55\u001b[0m inputs \u001b[38;5;241m=\u001b[39m torch\u001b[38;5;241m.\u001b[39mfrom_numpy(inputs)\n",
      "File \u001b[0;32m~/miniconda3/envs/physioex/lib/python3.10/site-packages/scipy/signal/_signaltools.py:4344\u001b[0m, in \u001b[0;36msosfilt\u001b[0;34m(sos, x, axis, zi)\u001b[0m\n\u001b[1;32m   4342\u001b[0m zi \u001b[38;5;241m=\u001b[39m np\u001b[38;5;241m.\u001b[39mascontiguousarray(np\u001b[38;5;241m.\u001b[39mreshape(zi, (\u001b[38;5;241m-\u001b[39m\u001b[38;5;241m1\u001b[39m, n_sections, \u001b[38;5;241m2\u001b[39m)))\n\u001b[1;32m   4343\u001b[0m sos \u001b[38;5;241m=\u001b[39m sos\u001b[38;5;241m.\u001b[39mastype(dtype, copy\u001b[38;5;241m=\u001b[39m\u001b[38;5;28;01mFalse\u001b[39;00m)\n\u001b[0;32m-> 4344\u001b[0m \u001b[43m_sosfilt\u001b[49m\u001b[43m(\u001b[49m\u001b[43msos\u001b[49m\u001b[43m,\u001b[49m\u001b[43m \u001b[49m\u001b[43mx\u001b[49m\u001b[43m,\u001b[49m\u001b[43m \u001b[49m\u001b[43mzi\u001b[49m\u001b[43m)\u001b[49m\n\u001b[1;32m   4345\u001b[0m x\u001b[38;5;241m.\u001b[39mshape \u001b[38;5;241m=\u001b[39m x_shape\n\u001b[1;32m   4346\u001b[0m x \u001b[38;5;241m=\u001b[39m np\u001b[38;5;241m.\u001b[39mmoveaxis(x, \u001b[38;5;241m-\u001b[39m\u001b[38;5;241m1\u001b[39m, axis)\n",
      "\u001b[0;31mKeyboardInterrupt\u001b[0m: "
     ]
    }
   ],
   "source": [
    "sleep_bands = [[0.5, 4], [4, 8], [8, 11.5], [11.5, 15.5], [15.5, 30], [30, 49.5]]\n",
    "sleep_bands_names = [\"Delta\", \"Theta\", \"Alpha\", \"Sigma\", \"Beta\", \"Gamma\"]\n",
    "\n",
    "expl.explain(\n",
    "    sleep_bands, sleep_bands_names, plot_pred=True, plot_true=True, compute_time=False\n",
    ")"
   ]
  },
  {
   "cell_type": "code",
   "execution_count": null,
   "metadata": {},
   "outputs": [],
   "source": []
  }
 ],
 "metadata": {
  "accelerator": "GPU",
  "colab": {
   "gpuType": "T4",
   "provenance": []
  },
  "kernelspec": {
   "display_name": "Python 3",
   "name": "python3"
  },
  "language_info": {
   "codemirror_mode": {
    "name": "ipython",
    "version": 3
   },
   "file_extension": ".py",
   "mimetype": "text/x-python",
   "name": "python",
   "nbconvert_exporter": "python",
   "pygments_lexer": "ipython3",
   "version": "3.10.0"
  }
 },
 "nbformat": 4,
 "nbformat_minor": 0
}
