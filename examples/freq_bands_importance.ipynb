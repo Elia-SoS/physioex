{
 "cells": [
  {
   "cell_type": "code",
   "execution_count": 1,
   "metadata": {},
   "outputs": [
    {
     "name": "stderr",
     "output_type": "stream",
     "text": [
      "/home/guido/miniconda3/envs/physioex/lib/python3.10/site-packages/braindecode/preprocessing/preprocess.py:55: UserWarning: Preprocessing choices with lambda functions cannot be saved.\n",
      "  warn('Preprocessing choices with lambda functions cannot be saved.')\n"
     ]
    },
    {
     "name": "stdout",
     "output_type": "stream",
     "text": [
      "Current working directory: /home/guido/github/dev/physioex\n"
     ]
    }
   ],
   "source": [
    "from utils import set_root\n",
    "\n",
    "set_root()"
   ]
  },
  {
   "cell_type": "code",
   "execution_count": 2,
   "metadata": {},
   "outputs": [],
   "source": [
    "import matplotlib.pyplot as plt\n",
    "import matplotlib.image as mpimg\n",
    "\n",
    "from physioex.explain import FreqBandsExplainer\n",
    "from loguru import logger"
   ]
  },
  {
   "cell_type": "code",
   "execution_count": 3,
   "metadata": {
    "colab": {
     "base_uri": "https://localhost:8080/"
    },
    "id": "TVyiMZUnlHvT",
    "outputId": "2d8a2332-af5c-4fd8-db0a-cd73bfc2b83a"
   },
   "outputs": [
    {
     "name": "stderr",
     "output_type": "stream",
     "text": [
      "\u001b[32m2024-03-18 12:26:23.457\u001b[0m | \u001b[1mINFO    \u001b[0m | \u001b[36mphysioex.explain.base\u001b[0m:\u001b[36m__init__\u001b[0m:\u001b[36m46\u001b[0m - \u001b[1mScanning checkpoint directory...\u001b[0m\n",
      "\u001b[32m2024-03-18 12:26:23.461\u001b[0m | \u001b[1mINFO    \u001b[0m | \u001b[36mphysioex.explain.base\u001b[0m:\u001b[36m__init__\u001b[0m:\u001b[36m60\u001b[0m - \u001b[1mFound 10 checkpoints\u001b[0m\n",
      "\u001b[32m2024-03-18 12:26:23.462\u001b[0m | \u001b[1mINFO    \u001b[0m | \u001b[36mphysioex.explain.base\u001b[0m:\u001b[36m__init__\u001b[0m:\u001b[36m64\u001b[0m - \u001b[1mLoading dataset\u001b[0m\n",
      "\u001b[32m2024-03-18 12:26:23.464\u001b[0m | \u001b[1mINFO    \u001b[0m | \u001b[36mphysioex.data.utils\u001b[0m:\u001b[36mread_cache\u001b[0m:\u001b[36m12\u001b[0m - \u001b[1mReading chache from temp/dreem_dodh.pkl\u001b[0m\n",
      "\u001b[32m2024-03-18 12:26:23.961\u001b[0m | \u001b[1mINFO    \u001b[0m | \u001b[36mphysioex.explain.base\u001b[0m:\u001b[36m__init__\u001b[0m:\u001b[36m67\u001b[0m - \u001b[1mDataset loaded\u001b[0m\n"
     ]
    }
   ],
   "source": [
    "ckp_path = \"models/cel/chambon2018/seqlen=21/dreem/dodh/\"\n",
    "\n",
    "expl = FreqBandsExplainer(\n",
    "    model_name=\"chambon2018\",\n",
    "    dataset_name=\"dreem\",\n",
    "    version=\"dodh\",\n",
    "    use_cache=True,\n",
    "    sequence_lenght=21,\n",
    "    ckp_path=ckp_path,\n",
    "    batch_size=32,\n",
    ")"
   ]
  },
  {
   "cell_type": "code",
   "execution_count": 4,
   "metadata": {},
   "outputs": [
    {
     "name": "stderr",
     "output_type": "stream",
     "text": [
      "\u001b[32m2024-03-18 12:26:23.977\u001b[0m | \u001b[1mINFO    \u001b[0m | \u001b[36mphysioex.explain.bands.explainer\u001b[0m:\u001b[36mcompute_band_importance\u001b[0m:\u001b[36m115\u001b[0m - \u001b[1mJOB:1-Loading model <class 'physioex.train.networks.chambon2018.Chambon2018Net'> from checkpoint models/cel/chambon2018/seqlen=21/dreem/dodh/fold=1-epoch=19-step=11197-val_acc=0.87.ckpt\u001b[0m\n",
      "\u001b[32m2024-03-18 12:26:24.427\u001b[0m | \u001b[1mINFO    \u001b[0m | \u001b[36mphysioex.explain.bands.explainer\u001b[0m:\u001b[36mcompute_band_importance\u001b[0m:\u001b[36m127\u001b[0m - \u001b[1mJOB:1-Splitting dataset into train, validation and test sets\u001b[0m\n",
      "\u001b[32m2024-03-18 12:26:24.739\u001b[0m | \u001b[1mINFO    \u001b[0m | \u001b[36mphysioex.data.dreem\u001b[0m:\u001b[36msplit\u001b[0m:\u001b[36m205\u001b[0m - \u001b[1mTrain shape X (18659, 1, 3000), y (18659,)\u001b[0m\n",
      "\u001b[32m2024-03-18 12:26:24.741\u001b[0m | \u001b[1mINFO    \u001b[0m | \u001b[36mphysioex.data.dreem\u001b[0m:\u001b[36msplit\u001b[0m:\u001b[36m206\u001b[0m - \u001b[1mValid shape X (4025, 1, 3000), y (4025,)\u001b[0m\n",
      "\u001b[32m2024-03-18 12:26:24.742\u001b[0m | \u001b[1mINFO    \u001b[0m | \u001b[36mphysioex.data.dreem\u001b[0m:\u001b[36msplit\u001b[0m:\u001b[36m207\u001b[0m - \u001b[1mTest shape X (1978, 1, 3000), y (1978,)\u001b[0m\n",
      "\u001b[32m2024-03-18 12:26:26.325\u001b[0m | \u001b[1mINFO    \u001b[0m | \u001b[36mphysioex.explain.bands.explainer\u001b[0m:\u001b[36mcompute_band_importance\u001b[0m:\u001b[36m144\u001b[0m - \u001b[1mJOB:1-Computing bands importance\u001b[0m\n",
      "100%|██████████| 583/583 [49:15<00:00,  5.07s/it]\n",
      "\u001b[32m2024-03-18 13:15:41.867\u001b[0m | \u001b[1mINFO    \u001b[0m | \u001b[36mphysioex.explain.bands.explainer\u001b[0m:\u001b[36mcompute_band_importance\u001b[0m:\u001b[36m156\u001b[0m - \u001b[1mJOB:1-Saving explanations\u001b[0m\n",
      "\u001b[32m2024-03-18 13:15:42.672\u001b[0m | \u001b[1mINFO    \u001b[0m | \u001b[36mphysioex.explain.bands.explainer\u001b[0m:\u001b[36mcompute_band_importance\u001b[0m:\u001b[36m162\u001b[0m - \u001b[1mJOB:1-Explanations saved\u001b[0m\n",
      "\u001b[32m2024-03-18 13:15:43.637\u001b[0m | \u001b[1mINFO    \u001b[0m | \u001b[36mphysioex.explain.bands.explainer\u001b[0m:\u001b[36mcompute_band_importance\u001b[0m:\u001b[36m115\u001b[0m - \u001b[1mJOB:8-Loading model <class 'physioex.train.networks.chambon2018.Chambon2018Net'> from checkpoint models/cel/chambon2018/seqlen=21/dreem/dodh/fold=8-epoch=19-step=11622-val_acc=0.83.ckpt\u001b[0m\n",
      "\u001b[32m2024-03-18 13:15:43.721\u001b[0m | \u001b[1mINFO    \u001b[0m | \u001b[36mphysioex.explain.bands.explainer\u001b[0m:\u001b[36mcompute_band_importance\u001b[0m:\u001b[36m127\u001b[0m - \u001b[1mJOB:8-Splitting dataset into train, validation and test sets\u001b[0m\n",
      "\u001b[32m2024-03-18 13:15:44.176\u001b[0m | \u001b[1mINFO    \u001b[0m | \u001b[36mphysioex.data.dreem\u001b[0m:\u001b[36msplit\u001b[0m:\u001b[36m205\u001b[0m - \u001b[1mTrain shape X (18823, 1, 3000), y (18823,)\u001b[0m\n",
      "\u001b[32m2024-03-18 13:15:44.178\u001b[0m | \u001b[1mINFO    \u001b[0m | \u001b[36mphysioex.data.dreem\u001b[0m:\u001b[36msplit\u001b[0m:\u001b[36m206\u001b[0m - \u001b[1mValid shape X (3941, 1, 3000), y (3941,)\u001b[0m\n",
      "\u001b[32m2024-03-18 13:15:44.179\u001b[0m | \u001b[1mINFO    \u001b[0m | \u001b[36mphysioex.data.dreem\u001b[0m:\u001b[36msplit\u001b[0m:\u001b[36m207\u001b[0m - \u001b[1mTest shape X (1898, 1, 3000), y (1898,)\u001b[0m\n",
      "\u001b[32m2024-03-18 13:15:45.815\u001b[0m | \u001b[1mINFO    \u001b[0m | \u001b[36mphysioex.explain.bands.explainer\u001b[0m:\u001b[36mcompute_band_importance\u001b[0m:\u001b[36m144\u001b[0m - \u001b[1mJOB:8-Computing bands importance\u001b[0m\n",
      " 97%|█████████▋| 573/588 [1:04:22<01:41,  6.74s/it]\n"
     ]
    },
    {
     "ename": "KeyboardInterrupt",
     "evalue": "",
     "output_type": "error",
     "traceback": [
      "\u001b[0;31m---------------------------------------------------------------------------\u001b[0m",
      "\u001b[0;31mKeyboardInterrupt\u001b[0m                         Traceback (most recent call last)",
      "Cell \u001b[0;32mIn[4], line 4\u001b[0m\n\u001b[1;32m      1\u001b[0m sleep_bands \u001b[38;5;241m=\u001b[39m [[\u001b[38;5;241m0.5\u001b[39m, \u001b[38;5;241m4\u001b[39m], [\u001b[38;5;241m4\u001b[39m, \u001b[38;5;241m8\u001b[39m], [\u001b[38;5;241m8\u001b[39m, \u001b[38;5;241m11.5\u001b[39m], [\u001b[38;5;241m11.5\u001b[39m, \u001b[38;5;241m15.5\u001b[39m], [\u001b[38;5;241m15.5\u001b[39m, \u001b[38;5;241m30\u001b[39m], [\u001b[38;5;241m30\u001b[39m, \u001b[38;5;241m49.5\u001b[39m]]\n\u001b[1;32m      2\u001b[0m sleep_bands_names \u001b[38;5;241m=\u001b[39m [\u001b[38;5;124m\"\u001b[39m\u001b[38;5;124mDelta\u001b[39m\u001b[38;5;124m\"\u001b[39m, \u001b[38;5;124m\"\u001b[39m\u001b[38;5;124mTheta\u001b[39m\u001b[38;5;124m\"\u001b[39m, \u001b[38;5;124m\"\u001b[39m\u001b[38;5;124mAlpha\u001b[39m\u001b[38;5;124m\"\u001b[39m, \u001b[38;5;124m\"\u001b[39m\u001b[38;5;124mSigma\u001b[39m\u001b[38;5;124m\"\u001b[39m, \u001b[38;5;124m\"\u001b[39m\u001b[38;5;124mBeta\u001b[39m\u001b[38;5;124m\"\u001b[39m, \u001b[38;5;124m\"\u001b[39m\u001b[38;5;124mGamma\u001b[39m\u001b[38;5;124m\"\u001b[39m]\n\u001b[0;32m----> 4\u001b[0m \u001b[43mexpl\u001b[49m\u001b[38;5;241;43m.\u001b[39;49m\u001b[43mexplain\u001b[49m\u001b[43m(\u001b[49m\n\u001b[1;32m      5\u001b[0m \u001b[43m    \u001b[49m\u001b[43msleep_bands\u001b[49m\u001b[43m,\u001b[49m\n\u001b[1;32m      6\u001b[0m \u001b[43m    \u001b[49m\u001b[43msleep_bands_names\u001b[49m\u001b[43m,\u001b[49m\n\u001b[1;32m      7\u001b[0m \u001b[43m    \u001b[49m\u001b[43mplot_class\u001b[49m\u001b[38;5;241;43m=\u001b[39;49m\u001b[38;5;28;43;01mTrue\u001b[39;49;00m\u001b[43m,\u001b[49m\n\u001b[1;32m      8\u001b[0m \u001b[43m    \u001b[49m\u001b[43msave\u001b[49m\u001b[38;5;241;43m=\u001b[39;49m\u001b[38;5;28;43;01mTrue\u001b[39;49;00m\u001b[43m,\u001b[49m\n\u001b[1;32m      9\u001b[0m \u001b[43m)\u001b[49m\n",
      "File \u001b[0;32m~/github/dev/physioex/physioex/explain/bands/explainer.py:184\u001b[0m, in \u001b[0;36mFreqBandsExplainer.explain\u001b[0;34m(self, bands, band_names, plot_class, n_jobs, save)\u001b[0m\n\u001b[1;32m    174\u001b[0m \u001b[38;5;28;01mdef\u001b[39;00m \u001b[38;5;21mexplain\u001b[39m(\n\u001b[1;32m    175\u001b[0m     \u001b[38;5;28mself\u001b[39m,\n\u001b[1;32m    176\u001b[0m     bands: List[List[\u001b[38;5;28mfloat\u001b[39m]],\n\u001b[0;32m   (...)\u001b[0m\n\u001b[1;32m    180\u001b[0m     save: \u001b[38;5;28mbool\u001b[39m \u001b[38;5;241m=\u001b[39m \u001b[38;5;28;01mFalse\u001b[39;00m,\n\u001b[1;32m    181\u001b[0m ):\n\u001b[1;32m    183\u001b[0m     \u001b[38;5;28;01mfor\u001b[39;00m fold \u001b[38;5;129;01min\u001b[39;00m \u001b[38;5;28mself\u001b[39m\u001b[38;5;241m.\u001b[39mcheckpoints\u001b[38;5;241m.\u001b[39mkeys():\n\u001b[0;32m--> 184\u001b[0m         \u001b[38;5;28;43mself\u001b[39;49m\u001b[38;5;241;43m.\u001b[39;49m\u001b[43mcompute_band_importance\u001b[49m\u001b[43m(\u001b[49m\u001b[43mbands\u001b[49m\u001b[43m,\u001b[49m\u001b[43m \u001b[49m\u001b[43mband_names\u001b[49m\u001b[43m,\u001b[49m\u001b[43m \u001b[49m\u001b[38;5;28;43mint\u001b[39;49m\u001b[43m(\u001b[49m\u001b[43mfold\u001b[49m\u001b[43m)\u001b[49m\u001b[43m,\u001b[49m\u001b[43m \u001b[49m\u001b[43mplot_class\u001b[49m\u001b[43m,\u001b[49m\u001b[43m \u001b[49m\u001b[43msave\u001b[49m\u001b[43m)\u001b[49m\n\u001b[1;32m    185\u001b[0m     \u001b[38;5;28;01mreturn\u001b[39;00m\n",
      "File \u001b[0;32m~/github/dev/physioex/physioex/explain/bands/explainer.py:147\u001b[0m, in \u001b[0;36mFreqBandsExplainer.compute_band_importance\u001b[0;34m(self, bands, band_names, fold, plot_class, save)\u001b[0m\n\u001b[1;32m    144\u001b[0m logger\u001b[38;5;241m.\u001b[39minfo(\u001b[38;5;124m\"\u001b[39m\u001b[38;5;124mJOB:\u001b[39m\u001b[38;5;132;01m%d\u001b[39;00m\u001b[38;5;124m-Computing bands importance\u001b[39m\u001b[38;5;124m\"\u001b[39m \u001b[38;5;241m%\u001b[39m fold)\n\u001b[1;32m    145\u001b[0m filename \u001b[38;5;241m=\u001b[39m \u001b[38;5;28mself\u001b[39m\u001b[38;5;241m.\u001b[39mckpt_path \u001b[38;5;241m+\u001b[39m \u001b[38;5;124m\"\u001b[39m\u001b[38;5;124mexplanations_fold_\u001b[39m\u001b[38;5;124m\"\u001b[39m \u001b[38;5;241m+\u001b[39m \u001b[38;5;28mstr\u001b[39m(fold) \u001b[38;5;241m+\u001b[39m \u001b[38;5;124m\"\u001b[39m\u001b[38;5;124m.pt\u001b[39m\u001b[38;5;124m\"\u001b[39m\n\u001b[0;32m--> 147\u001b[0m explanations \u001b[38;5;241m=\u001b[39m \u001b[43mcompute_band_importance\u001b[49m\u001b[43m(\u001b[49m\n\u001b[1;32m    148\u001b[0m \u001b[43m    \u001b[49m\u001b[43mbands\u001b[49m\u001b[43m,\u001b[49m\n\u001b[1;32m    149\u001b[0m \u001b[43m    \u001b[49m\u001b[43mmodel\u001b[49m\u001b[43m,\u001b[49m\n\u001b[1;32m    150\u001b[0m \u001b[43m    \u001b[49m\u001b[43mdataloader\u001b[49m\u001b[43m,\u001b[49m\n\u001b[1;32m    151\u001b[0m \u001b[43m    \u001b[49m\u001b[38;5;28;43mself\u001b[39;49m\u001b[38;5;241;43m.\u001b[39;49m\u001b[43msampling_rate\u001b[49m\u001b[43m,\u001b[49m\n\u001b[1;32m    152\u001b[0m \u001b[43m\u001b[49m\u001b[43m)\u001b[49m\n\u001b[1;32m    154\u001b[0m model \u001b[38;5;241m=\u001b[39m model\u001b[38;5;241m.\u001b[39mcpu()\n\u001b[1;32m    156\u001b[0m logger\u001b[38;5;241m.\u001b[39minfo(\u001b[38;5;124m\"\u001b[39m\u001b[38;5;124mJOB:\u001b[39m\u001b[38;5;132;01m%d\u001b[39;00m\u001b[38;5;124m-Saving explanations\u001b[39m\u001b[38;5;124m\"\u001b[39m \u001b[38;5;241m%\u001b[39m fold)\n",
      "File \u001b[0;32m~/github/dev/physioex/physioex/explain/bands/importance.py:102\u001b[0m, in \u001b[0;36mband_importance\u001b[0;34m(bands, model, dataloader, sampling_rate)\u001b[0m\n\u001b[1;32m    100\u001b[0m \u001b[38;5;28;01mfor\u001b[39;00m combination \u001b[38;5;129;01min\u001b[39;00m combinations:\n\u001b[1;32m    101\u001b[0m     b_indx \u001b[38;5;241m=\u001b[39m np\u001b[38;5;241m.\u001b[39mwhere(combination \u001b[38;5;241m==\u001b[39m \u001b[38;5;241m1\u001b[39m)[\u001b[38;5;241m0\u001b[39m]\u001b[38;5;241m.\u001b[39mastype(\u001b[38;5;28mint\u001b[39m)\n\u001b[0;32m--> 102\u001b[0m     band_score  \u001b[38;5;241m=\u001b[39m \u001b[43mfiltered_band_importance\u001b[49m\u001b[43m(\u001b[49m\n\u001b[1;32m    103\u001b[0m \u001b[43m        \u001b[49m\u001b[43m[\u001b[49m\u001b[43mbands\u001b[49m\u001b[43m[\u001b[49m\u001b[43mi\u001b[49m\u001b[43m]\u001b[49m\u001b[43m \u001b[49m\u001b[38;5;28;43;01mfor\u001b[39;49;00m\u001b[43m \u001b[49m\u001b[43mi\u001b[49m\u001b[43m \u001b[49m\u001b[38;5;129;43;01min\u001b[39;49;00m\u001b[43m \u001b[49m\u001b[43mb_indx\u001b[49m\u001b[43m]\u001b[49m\u001b[43m,\u001b[49m\u001b[43m \u001b[49m\n\u001b[1;32m    104\u001b[0m \u001b[43m        \u001b[49m\u001b[43mmodel\u001b[49m\u001b[43m,\u001b[49m\n\u001b[1;32m    105\u001b[0m \u001b[43m        \u001b[49m\u001b[43minputs\u001b[49m\u001b[38;5;241;43m.\u001b[39;49m\u001b[43mcopy\u001b[49m\u001b[43m(\u001b[49m\u001b[43m)\u001b[49m\u001b[43m,\u001b[49m\n\u001b[1;32m    106\u001b[0m \u001b[43m        \u001b[49m\u001b[43msampling_rate\u001b[49m\u001b[43m,\u001b[49m\n\u001b[1;32m    107\u001b[0m \u001b[43m    \u001b[49m\u001b[43m)\u001b[49m\n\u001b[1;32m    109\u001b[0m     \u001b[38;5;28;01mfor\u001b[39;00m indx \u001b[38;5;129;01min\u001b[39;00m b_indx:\n\u001b[1;32m    110\u001b[0m         bands_importance[:, indx, :] \u001b[38;5;241m+\u001b[39m\u001b[38;5;241m=\u001b[39m band_score \u001b[38;5;241m/\u001b[39m D\n",
      "File \u001b[0;32m~/github/dev/physioex/physioex/explain/bands/importance.py:54\u001b[0m, in \u001b[0;36mfiltered_band_importance\u001b[0;34m(bands, model, inputs, sampling_rate)\u001b[0m\n\u001b[1;32m     52\u001b[0m low \u001b[38;5;241m=\u001b[39m lowcut \u001b[38;5;241m/\u001b[39m nyq\n\u001b[1;32m     53\u001b[0m high \u001b[38;5;241m=\u001b[39m highcut \u001b[38;5;241m/\u001b[39m nyq\n\u001b[0;32m---> 54\u001b[0m sos \u001b[38;5;241m=\u001b[39m \u001b[43msignal\u001b[49m\u001b[38;5;241;43m.\u001b[39;49m\u001b[43mbutter\u001b[49m\u001b[43m(\u001b[49m\u001b[43morder\u001b[49m\u001b[43m,\u001b[49m\u001b[43m \u001b[49m\u001b[43m[\u001b[49m\u001b[43mlow\u001b[49m\u001b[43m,\u001b[49m\u001b[43m \u001b[49m\u001b[43mhigh\u001b[49m\u001b[43m]\u001b[49m\u001b[43m,\u001b[49m\u001b[43m \u001b[49m\u001b[43mbtype\u001b[49m\u001b[38;5;241;43m=\u001b[39;49m\u001b[38;5;124;43m\"\u001b[39;49m\u001b[38;5;124;43mbandstop\u001b[39;49m\u001b[38;5;124;43m\"\u001b[39;49m\u001b[43m,\u001b[49m\u001b[43m \u001b[49m\u001b[43moutput\u001b[49m\u001b[38;5;241;43m=\u001b[39;49m\u001b[38;5;124;43m\"\u001b[39;49m\u001b[38;5;124;43msos\u001b[39;49m\u001b[38;5;124;43m\"\u001b[39;49m\u001b[43m)\u001b[49m\n\u001b[1;32m     56\u001b[0m \u001b[38;5;28;01mfor\u001b[39;00m index \u001b[38;5;129;01min\u001b[39;00m \u001b[38;5;28mrange\u001b[39m(batch_size):\n\u001b[1;32m     57\u001b[0m     inputs[index] \u001b[38;5;241m=\u001b[39m signal\u001b[38;5;241m.\u001b[39msosfilt(sos, inputs[index])\n",
      "File \u001b[0;32m~/miniconda3/envs/physioex/lib/python3.10/site-packages/scipy/signal/_filter_design.py:3216\u001b[0m, in \u001b[0;36mbutter\u001b[0;34m(N, Wn, btype, analog, output, fs)\u001b[0m\n\u001b[1;32m   3095\u001b[0m \u001b[38;5;28;01mdef\u001b[39;00m \u001b[38;5;21mbutter\u001b[39m(N, Wn, btype\u001b[38;5;241m=\u001b[39m\u001b[38;5;124m'\u001b[39m\u001b[38;5;124mlow\u001b[39m\u001b[38;5;124m'\u001b[39m, analog\u001b[38;5;241m=\u001b[39m\u001b[38;5;28;01mFalse\u001b[39;00m, output\u001b[38;5;241m=\u001b[39m\u001b[38;5;124m'\u001b[39m\u001b[38;5;124mba\u001b[39m\u001b[38;5;124m'\u001b[39m, fs\u001b[38;5;241m=\u001b[39m\u001b[38;5;28;01mNone\u001b[39;00m):\n\u001b[1;32m   3096\u001b[0m \u001b[38;5;250m    \u001b[39m\u001b[38;5;124;03m\"\"\"\u001b[39;00m\n\u001b[1;32m   3097\u001b[0m \u001b[38;5;124;03m    Butterworth digital and analog filter design.\u001b[39;00m\n\u001b[1;32m   3098\u001b[0m \n\u001b[0;32m   (...)\u001b[0m\n\u001b[1;32m   3214\u001b[0m \u001b[38;5;124;03m    >>> plt.show()\u001b[39;00m\n\u001b[1;32m   3215\u001b[0m \u001b[38;5;124;03m    \"\"\"\u001b[39;00m\n\u001b[0;32m-> 3216\u001b[0m     \u001b[38;5;28;01mreturn\u001b[39;00m \u001b[43miirfilter\u001b[49m\u001b[43m(\u001b[49m\u001b[43mN\u001b[49m\u001b[43m,\u001b[49m\u001b[43m \u001b[49m\u001b[43mWn\u001b[49m\u001b[43m,\u001b[49m\u001b[43m \u001b[49m\u001b[43mbtype\u001b[49m\u001b[38;5;241;43m=\u001b[39;49m\u001b[43mbtype\u001b[49m\u001b[43m,\u001b[49m\u001b[43m \u001b[49m\u001b[43manalog\u001b[49m\u001b[38;5;241;43m=\u001b[39;49m\u001b[43manalog\u001b[49m\u001b[43m,\u001b[49m\n\u001b[1;32m   3217\u001b[0m \u001b[43m                     \u001b[49m\u001b[43moutput\u001b[49m\u001b[38;5;241;43m=\u001b[39;49m\u001b[43moutput\u001b[49m\u001b[43m,\u001b[49m\u001b[43m \u001b[49m\u001b[43mftype\u001b[49m\u001b[38;5;241;43m=\u001b[39;49m\u001b[38;5;124;43m'\u001b[39;49m\u001b[38;5;124;43mbutter\u001b[39;49m\u001b[38;5;124;43m'\u001b[39;49m\u001b[43m,\u001b[49m\u001b[43m \u001b[49m\u001b[43mfs\u001b[49m\u001b[38;5;241;43m=\u001b[39;49m\u001b[43mfs\u001b[49m\u001b[43m)\u001b[49m\n",
      "File \u001b[0;32m~/miniconda3/envs/physioex/lib/python3.10/site-packages/scipy/signal/_filter_design.py:2654\u001b[0m, in \u001b[0;36miirfilter\u001b[0;34m(N, Wn, rp, rs, btype, analog, ftype, output, fs)\u001b[0m\n\u001b[1;32m   2652\u001b[0m     \u001b[38;5;28;01mreturn\u001b[39;00m zpk2tf(z, p, k)\n\u001b[1;32m   2653\u001b[0m \u001b[38;5;28;01melif\u001b[39;00m output \u001b[38;5;241m==\u001b[39m \u001b[38;5;124m'\u001b[39m\u001b[38;5;124msos\u001b[39m\u001b[38;5;124m'\u001b[39m:\n\u001b[0;32m-> 2654\u001b[0m     \u001b[38;5;28;01mreturn\u001b[39;00m \u001b[43mzpk2sos\u001b[49m\u001b[43m(\u001b[49m\u001b[43mz\u001b[49m\u001b[43m,\u001b[49m\u001b[43m \u001b[49m\u001b[43mp\u001b[49m\u001b[43m,\u001b[49m\u001b[43m \u001b[49m\u001b[43mk\u001b[49m\u001b[43m,\u001b[49m\u001b[43m \u001b[49m\u001b[43manalog\u001b[49m\u001b[38;5;241;43m=\u001b[39;49m\u001b[43manalog\u001b[49m\u001b[43m)\u001b[49m\n",
      "File \u001b[0;32m~/miniconda3/envs/physioex/lib/python3.10/site-packages/scipy/signal/_filter_design.py:1649\u001b[0m, in \u001b[0;36mzpk2sos\u001b[0;34m(z, p, k, pairing, analog)\u001b[0m\n\u001b[1;32m   1646\u001b[0m z \u001b[38;5;241m=\u001b[39m np\u001b[38;5;241m.\u001b[39mdelete(z, z1_idx)\n\u001b[1;32m   1648\u001b[0m \u001b[38;5;28;01mif\u001b[39;00m \u001b[38;5;129;01mnot\u001b[39;00m np\u001b[38;5;241m.\u001b[39misreal(z1):\n\u001b[0;32m-> 1649\u001b[0m     sos[si] \u001b[38;5;241m=\u001b[39m \u001b[43m_single_zpksos\u001b[49m\u001b[43m(\u001b[49m\u001b[43m[\u001b[49m\u001b[43mz1\u001b[49m\u001b[43m,\u001b[49m\u001b[43m \u001b[49m\u001b[43mz1\u001b[49m\u001b[38;5;241;43m.\u001b[39;49m\u001b[43mconj\u001b[49m\u001b[43m(\u001b[49m\u001b[43m)\u001b[49m\u001b[43m]\u001b[49m\u001b[43m,\u001b[49m\u001b[43m \u001b[49m\u001b[43m[\u001b[49m\u001b[43mp1\u001b[49m\u001b[43m,\u001b[49m\u001b[43m \u001b[49m\u001b[43mp2\u001b[49m\u001b[43m]\u001b[49m\u001b[43m,\u001b[49m\u001b[43m \u001b[49m\u001b[38;5;241;43m1\u001b[39;49m\u001b[43m)\u001b[49m\n\u001b[1;32m   1650\u001b[0m \u001b[38;5;28;01melse\u001b[39;00m:\n\u001b[1;32m   1651\u001b[0m     \u001b[38;5;28;01mif\u001b[39;00m \u001b[38;5;28mlen\u001b[39m(z) \u001b[38;5;241m>\u001b[39m \u001b[38;5;241m0\u001b[39m:\n",
      "File \u001b[0;32m~/miniconda3/envs/physioex/lib/python3.10/site-packages/scipy/signal/_filter_design.py:1348\u001b[0m, in \u001b[0;36m_single_zpksos\u001b[0;34m(z, p, k)\u001b[0m\n\u001b[1;32m   1346\u001b[0m \u001b[38;5;250m\u001b[39m\u001b[38;5;124;03m\"\"\"Create one second-order section from up to two zeros and poles\"\"\"\u001b[39;00m\n\u001b[1;32m   1347\u001b[0m sos \u001b[38;5;241m=\u001b[39m np\u001b[38;5;241m.\u001b[39mzeros(\u001b[38;5;241m6\u001b[39m)\n\u001b[0;32m-> 1348\u001b[0m b, a \u001b[38;5;241m=\u001b[39m \u001b[43mzpk2tf\u001b[49m\u001b[43m(\u001b[49m\u001b[43mz\u001b[49m\u001b[43m,\u001b[49m\u001b[43m \u001b[49m\u001b[43mp\u001b[49m\u001b[43m,\u001b[49m\u001b[43m \u001b[49m\u001b[43mk\u001b[49m\u001b[43m)\u001b[49m\n\u001b[1;32m   1349\u001b[0m sos[\u001b[38;5;241m3\u001b[39m\u001b[38;5;241m-\u001b[39m\u001b[38;5;28mlen\u001b[39m(b):\u001b[38;5;241m3\u001b[39m] \u001b[38;5;241m=\u001b[39m b\n\u001b[1;32m   1350\u001b[0m sos[\u001b[38;5;241m6\u001b[39m\u001b[38;5;241m-\u001b[39m\u001b[38;5;28mlen\u001b[39m(a):\u001b[38;5;241m6\u001b[39m] \u001b[38;5;241m=\u001b[39m a\n",
      "File \u001b[0;32m~/miniconda3/envs/physioex/lib/python3.10/site-packages/scipy/signal/_filter_design.py:1160\u001b[0m, in \u001b[0;36mzpk2tf\u001b[0;34m(z, p, k)\u001b[0m\n\u001b[1;32m   1158\u001b[0m \u001b[38;5;28;01melse\u001b[39;00m:\n\u001b[1;32m   1159\u001b[0m     b \u001b[38;5;241m=\u001b[39m k \u001b[38;5;241m*\u001b[39m poly(z)\n\u001b[0;32m-> 1160\u001b[0m a \u001b[38;5;241m=\u001b[39m atleast_1d(\u001b[43mpoly\u001b[49m\u001b[43m(\u001b[49m\u001b[43mp\u001b[49m\u001b[43m)\u001b[49m)\n\u001b[1;32m   1162\u001b[0m \u001b[38;5;66;03m# Use real output if possible. Copied from numpy.poly, since\u001b[39;00m\n\u001b[1;32m   1163\u001b[0m \u001b[38;5;66;03m# we can't depend on a specific version of numpy.\u001b[39;00m\n\u001b[1;32m   1164\u001b[0m \u001b[38;5;28;01mif\u001b[39;00m \u001b[38;5;28missubclass\u001b[39m(b\u001b[38;5;241m.\u001b[39mdtype\u001b[38;5;241m.\u001b[39mtype, numpy\u001b[38;5;241m.\u001b[39mcomplexfloating):\n\u001b[1;32m   1165\u001b[0m     \u001b[38;5;66;03m# if complex roots are all complex conjugates, the roots are real.\u001b[39;00m\n",
      "File \u001b[0;32m~/miniconda3/envs/physioex/lib/python3.10/site-packages/numpy/lib/polynomial.py:139\u001b[0m, in \u001b[0;36mpoly\u001b[0;34m(seq_of_zeros)\u001b[0m\n\u001b[1;32m     45\u001b[0m \u001b[38;5;129m@array_function_dispatch\u001b[39m(_poly_dispatcher)\n\u001b[1;32m     46\u001b[0m \u001b[38;5;28;01mdef\u001b[39;00m \u001b[38;5;21mpoly\u001b[39m(seq_of_zeros):\n\u001b[1;32m     47\u001b[0m \u001b[38;5;250m    \u001b[39m\u001b[38;5;124;03m\"\"\"\u001b[39;00m\n\u001b[1;32m     48\u001b[0m \u001b[38;5;124;03m    Find the coefficients of a polynomial with the given sequence of roots.\u001b[39;00m\n\u001b[1;32m     49\u001b[0m \n\u001b[0;32m   (...)\u001b[0m\n\u001b[1;32m    137\u001b[0m \n\u001b[1;32m    138\u001b[0m \u001b[38;5;124;03m    \"\"\"\u001b[39;00m\n\u001b[0;32m--> 139\u001b[0m     seq_of_zeros \u001b[38;5;241m=\u001b[39m \u001b[43matleast_1d\u001b[49m\u001b[43m(\u001b[49m\u001b[43mseq_of_zeros\u001b[49m\u001b[43m)\u001b[49m\n\u001b[1;32m    140\u001b[0m     sh \u001b[38;5;241m=\u001b[39m seq_of_zeros\u001b[38;5;241m.\u001b[39mshape\n\u001b[1;32m    142\u001b[0m     \u001b[38;5;28;01mif\u001b[39;00m \u001b[38;5;28mlen\u001b[39m(sh) \u001b[38;5;241m==\u001b[39m \u001b[38;5;241m2\u001b[39m \u001b[38;5;129;01mand\u001b[39;00m sh[\u001b[38;5;241m0\u001b[39m] \u001b[38;5;241m==\u001b[39m sh[\u001b[38;5;241m1\u001b[39m] \u001b[38;5;129;01mand\u001b[39;00m sh[\u001b[38;5;241m0\u001b[39m] \u001b[38;5;241m!=\u001b[39m \u001b[38;5;241m0\u001b[39m:\n",
      "File \u001b[0;32m~/miniconda3/envs/physioex/lib/python3.10/site-packages/numpy/core/shape_base.py:19\u001b[0m, in \u001b[0;36m_atleast_1d_dispatcher\u001b[0;34m(*arys)\u001b[0m\n\u001b[1;32m     12\u001b[0m \u001b[38;5;28;01mfrom\u001b[39;00m \u001b[38;5;21;01m.\u001b[39;00m \u001b[38;5;28;01mimport\u001b[39;00m fromnumeric \u001b[38;5;28;01mas\u001b[39;00m _from_nx\n\u001b[1;32m     15\u001b[0m array_function_dispatch \u001b[38;5;241m=\u001b[39m functools\u001b[38;5;241m.\u001b[39mpartial(\n\u001b[1;32m     16\u001b[0m     overrides\u001b[38;5;241m.\u001b[39marray_function_dispatch, module\u001b[38;5;241m=\u001b[39m\u001b[38;5;124m'\u001b[39m\u001b[38;5;124mnumpy\u001b[39m\u001b[38;5;124m'\u001b[39m)\n\u001b[0;32m---> 19\u001b[0m \u001b[38;5;28;01mdef\u001b[39;00m \u001b[38;5;21m_atleast_1d_dispatcher\u001b[39m(\u001b[38;5;241m*\u001b[39marys):\n\u001b[1;32m     20\u001b[0m     \u001b[38;5;28;01mreturn\u001b[39;00m arys\n\u001b[1;32m     23\u001b[0m \u001b[38;5;129m@array_function_dispatch\u001b[39m(_atleast_1d_dispatcher)\n\u001b[1;32m     24\u001b[0m \u001b[38;5;28;01mdef\u001b[39;00m \u001b[38;5;21matleast_1d\u001b[39m(\u001b[38;5;241m*\u001b[39marys):\n",
      "\u001b[0;31mKeyboardInterrupt\u001b[0m: "
     ]
    }
   ],
   "source": [
    "sleep_bands = [[0.5, 4], [4, 8], [8, 11.5], [11.5, 15.5], [15.5, 30], [30, 49.5]]\n",
    "sleep_bands_names = [\"Delta\", \"Theta\", \"Alpha\", \"Sigma\", \"Beta\", \"Gamma\"]\n",
    "\n",
    "expl.explain(\n",
    "    sleep_bands,\n",
    "    sleep_bands_names,\n",
    "    plot_class=True,\n",
    "    save=True,\n",
    ")"
   ]
  },
  {
   "cell_type": "code",
   "execution_count": null,
   "metadata": {},
   "outputs": [],
   "source": []
  },
  {
   "cell_type": "code",
   "execution_count": null,
   "metadata": {},
   "outputs": [],
   "source": []
  }
 ],
 "metadata": {
  "accelerator": "GPU",
  "colab": {
   "gpuType": "T4",
   "provenance": []
  },
  "kernelspec": {
   "display_name": "Python 3",
   "name": "python3"
  },
  "language_info": {
   "codemirror_mode": {
    "name": "ipython",
    "version": 3
   },
   "file_extension": ".py",
   "mimetype": "text/x-python",
   "name": "python",
   "nbconvert_exporter": "python",
   "pygments_lexer": "ipython3",
   "version": "3.10.13"
  }
 },
 "nbformat": 4,
 "nbformat_minor": 0
}
