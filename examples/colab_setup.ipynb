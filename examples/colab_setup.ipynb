{
 "nbformat": 4,
 "nbformat_minor": 0,
 "metadata": {
  "colab": {
   "provenance": [],
   "gpuType": "T4",
   "authorship_tag": "ABX9TyNB8kptHbY8lNXyhBh/0TWM",
   "include_colab_link": true
  },
  "kernelspec": {
   "name": "python3",
   "display_name": "Python 3"
  },
  "language_info": {
   "name": "python"
  },
  "accelerator": "GPU"
 },
 "cells": [
  {
   "cell_type": "markdown",
   "metadata": {
    "id": "view-in-github",
    "colab_type": "text"
   },
   "source": [
    "<a href=\"https://colab.research.google.com/github/guidogagl/physioex/blob/main/examples/colab_setup.ipynb\" target=\"_parent\"><img src=\"https://colab.research.google.com/assets/colab-badge.svg\" alt=\"Open In Colab\"/></a>"
   ]
  },
  {
   "cell_type": "code",
   "execution_count": 1,
   "metadata": {
    "colab": {
     "base_uri": "https://localhost:8080/"
    },
    "id": "TJehO5FpB8Lw",
    "outputId": "b0940395-9d4f-4646-87dc-6726b9235cfd"
   },
   "outputs": [
    {
     "output_type": "stream",
     "name": "stdout",
     "text": [
      "Mounted at /content/drive\n"
     ]
    }
   ],
   "source": [
    "# mount your personal gdrive folder inside google colab server\n",
    "from google.colab import drive\n",
    "\n",
    "drive.mount(\"/content/drive\")"
   ]
  },
  {
   "cell_type": "code",
   "source": [
    "# setup the working directory\n",
    "import os\n",
    "\n",
    "working_dir = \"/content/drive/MyDrive/Thesis\"\n",
    "os.chdir(working_dir)"
   ],
   "metadata": {
    "id": "SJfAlIo-CZh9"
   },
   "execution_count": 2,
   "outputs": []
  },
  {
   "cell_type": "code",
   "source": [
    "# follow the guide on https://guidogagl.github.io/physioex/\n",
    "# clone your forked repo\n",
    "!git clone https://github.com/guidogagl/physioex.git\n",
    "%cd physioex\n",
    "\n",
    "!git pull origin main"
   ],
   "metadata": {
    "colab": {
     "base_uri": "https://localhost:8080/"
    },
    "id": "jZKvO9KdCug5",
    "outputId": "49fe9f93-2b79-464f-ef0d-72896d4155df"
   },
   "execution_count": null,
   "outputs": [
    {
     "output_type": "stream",
     "name": "stdout",
     "text": [
      "fatal: destination path 'physioex' already exists and is not an empty directory.\n",
      "/content/drive/MyDrive/Thesis/physioex\n"
     ]
    }
   ]
  },
  {
   "cell_type": "code",
   "source": [
    "# install the library in development mode\n",
    "!pip install -e ."
   ],
   "metadata": {
    "id": "pGa_PZZMDjIN"
   },
   "execution_count": null,
   "outputs": []
  },
  {
   "cell_type": "code",
   "source": [
    "# train the model proposed by chambon2018 on the DREEM dataset ( DODH version )\n",
    "!train -e chambon2018 --dataset dreem --version dodh -vci 30 --sequence_lenght 3 -nj 2 --checkpoint \"models/cel/chambon2018/seqlen=3/dreem/dodh/\""
   ],
   "metadata": {
    "id": "bdDv0QZWDnS2"
   },
   "execution_count": null,
   "outputs": []
  }
 ]
}