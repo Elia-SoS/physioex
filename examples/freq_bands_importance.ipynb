{
 "cells": [
  {
   "cell_type": "code",
   "execution_count": 1,
   "metadata": {},
   "outputs": [
    {
     "name": "stderr",
     "output_type": "stream",
     "text": [
      "/tmp/ipykernel_516259/4031198830.py:2: DeprecationWarning: Use of .. or absolute path in a resource path is not allowed and will raise exceptions in a future release.\n",
      "  path = pkg.resource_filename(__name__, \"../\")\n"
     ]
    }
   ],
   "source": [
    "import pkg_resources as pkg\n",
    "\n",
    "path = pkg.resource_filename(__name__, \"../\")\n",
    "\n",
    "import os\n",
    "\n",
    "os.chdir(path)"
   ]
  },
  {
   "cell_type": "code",
   "execution_count": 2,
   "metadata": {
    "colab": {
     "base_uri": "https://localhost:8080/"
    },
    "id": "TVyiMZUnlHvT",
    "outputId": "2d8a2332-af5c-4fd8-db0a-cd73bfc2b83a"
   },
   "outputs": [
    {
     "name": "stderr",
     "output_type": "stream",
     "text": [
      "<frozen importlib._bootstrap>:241: FutureWarning: mne.io.pick.pick_types is deprecated will be removed in 1.6, use documented public API instead. If no appropriate public API exists, please open an issue on GitHub.\n",
      "<frozen importlib._bootstrap>:241: FutureWarning: mne.io.pick.pick_channels_regexp is deprecated will be removed in 1.6, use documented public API instead. If no appropriate public API exists, please open an issue on GitHub.\n",
      "<frozen importlib._bootstrap>:241: FutureWarning: mne.io.pick.channel_type is deprecated will be removed in 1.6, use documented public API instead. If no appropriate public API exists, please open an issue on GitHub.\n",
      "/home/guido/miniconda3/envs/physioex/lib/python3.10/site-packages/moabb/pipelines/__init__.py:26: ModuleNotFoundError: Tensorflow is not installed. You won't be able to use these MOABB pipelines if you attempt to do so.\n",
      "  warn(\n",
      "/home/guido/miniconda3/envs/physioex/lib/python3.10/site-packages/braindecode/preprocessing/preprocess.py:55: UserWarning: Preprocessing choices with lambda functions cannot be saved.\n",
      "  warn('Preprocessing choices with lambda functions cannot be saved.')\n",
      "/home/guido/miniconda3/envs/physioex/lib/python3.10/site-packages/tqdm/auto.py:21: TqdmWarning: IProgress not found. Please update jupyter and ipywidgets. See https://ipywidgets.readthedocs.io/en/stable/user_install.html\n",
      "  from .autonotebook import tqdm as notebook_tqdm\n",
      "\u001b[32m2024-02-28 12:46:54.328\u001b[0m | \u001b[1mINFO    \u001b[0m | \u001b[36mphysioex.explain.base\u001b[0m:\u001b[36m__init__\u001b[0m:\u001b[36m51\u001b[0m - \u001b[1mScanning checkpoint directory...\u001b[0m\n",
      "\u001b[32m2024-02-28 12:46:54.330\u001b[0m | \u001b[1mINFO    \u001b[0m | \u001b[36mphysioex.explain.base\u001b[0m:\u001b[36m__init__\u001b[0m:\u001b[36m65\u001b[0m - \u001b[1mFound 10 checkpoints\u001b[0m\n",
      "\u001b[32m2024-02-28 12:46:54.331\u001b[0m | \u001b[1mINFO    \u001b[0m | \u001b[36mphysioex.explain.base\u001b[0m:\u001b[36m__init__\u001b[0m:\u001b[36m69\u001b[0m - \u001b[1mLoading dataset\u001b[0m\n",
      "\u001b[32m2024-02-28 12:46:54.332\u001b[0m | \u001b[1mINFO    \u001b[0m | \u001b[36mphysioex.data.utils\u001b[0m:\u001b[36mread_cache\u001b[0m:\u001b[36m11\u001b[0m - \u001b[1mReading chache from temp/dreem_dodh.pkl\u001b[0m\n",
      "\u001b[32m2024-02-28 12:46:54.910\u001b[0m | \u001b[1mINFO    \u001b[0m | \u001b[36mphysioex.explain.base\u001b[0m:\u001b[36m__init__\u001b[0m:\u001b[36m72\u001b[0m - \u001b[1mDataset loaded\u001b[0m\n"
     ]
    }
   ],
   "source": [
    "import matplotlib.pyplot as plt\n",
    "import matplotlib.image as mpimg\n",
    "\n",
    "from physioex.explain.bands import FreqBandsExplainer\n",
    "from loguru import logger\n",
    "\n",
    "ckp_path = \"models/cel/chambon2018/seqlen=3/dreem/dodh/\"\n",
    "\n",
    "expl = FreqBandsExplainer(\n",
    "    model_name=\"chambon2018\",\n",
    "    dataset_name=\"dreem\",\n",
    "    version=\"dodh\",\n",
    "    use_cache=True,\n",
    "    sequence_lenght=3,\n",
    "    ckp_path=ckp_path,\n",
    "    batch_size=32,\n",
    ")"
   ]
  },
  {
   "cell_type": "code",
   "execution_count": 3,
   "metadata": {},
   "outputs": [
    {
     "ename": "TypeError",
     "evalue": "FreqBandsExplainer.explain() got an unexpected keyword argument 'save_csv'",
     "output_type": "error",
     "traceback": [
      "\u001b[0;31m---------------------------------------------------------------------------\u001b[0m",
      "\u001b[0;31mTypeError\u001b[0m                                 Traceback (most recent call last)",
      "Cell \u001b[0;32mIn[3], line 4\u001b[0m\n\u001b[1;32m      1\u001b[0m sleep_bands \u001b[38;5;241m=\u001b[39m [[\u001b[38;5;241m0.5\u001b[39m, \u001b[38;5;241m4\u001b[39m], [\u001b[38;5;241m4\u001b[39m, \u001b[38;5;241m8\u001b[39m], [\u001b[38;5;241m8\u001b[39m, \u001b[38;5;241m11.5\u001b[39m], [\u001b[38;5;241m11.5\u001b[39m, \u001b[38;5;241m15.5\u001b[39m], [\u001b[38;5;241m15.5\u001b[39m, \u001b[38;5;241m30\u001b[39m], [\u001b[38;5;241m30\u001b[39m, \u001b[38;5;241m49.5\u001b[39m]]\n\u001b[1;32m      2\u001b[0m sleep_bands_names \u001b[38;5;241m=\u001b[39m [\u001b[38;5;124m'\u001b[39m\u001b[38;5;124mDelta\u001b[39m\u001b[38;5;124m'\u001b[39m, \u001b[38;5;124m'\u001b[39m\u001b[38;5;124mTheta\u001b[39m\u001b[38;5;124m'\u001b[39m, \u001b[38;5;124m'\u001b[39m\u001b[38;5;124mAlpha\u001b[39m\u001b[38;5;124m'\u001b[39m, \u001b[38;5;124m'\u001b[39m\u001b[38;5;124mSigma\u001b[39m\u001b[38;5;124m'\u001b[39m, \u001b[38;5;124m'\u001b[39m\u001b[38;5;124mBeta\u001b[39m\u001b[38;5;124m'\u001b[39m, \u001b[38;5;124m'\u001b[39m\u001b[38;5;124mGamma\u001b[39m\u001b[38;5;124m'\u001b[39m]\n\u001b[0;32m----> 4\u001b[0m \u001b[43mexpl\u001b[49m\u001b[38;5;241;43m.\u001b[39;49m\u001b[43mexplain\u001b[49m\u001b[43m(\u001b[49m\u001b[43msleep_bands\u001b[49m\u001b[43m,\u001b[49m\u001b[43m \u001b[49m\u001b[43msleep_bands_names\u001b[49m\u001b[43m,\u001b[49m\u001b[43m \u001b[49m\u001b[43msave_csv\u001b[49m\u001b[38;5;241;43m=\u001b[39;49m\u001b[43m \u001b[49m\u001b[38;5;28;43;01mTrue\u001b[39;49;00m\u001b[43m,\u001b[49m\u001b[43m  \u001b[49m\u001b[43mplot_pred\u001b[49m\u001b[43m \u001b[49m\u001b[38;5;241;43m=\u001b[39;49m\u001b[43m \u001b[49m\u001b[38;5;28;43;01mTrue\u001b[39;49;00m\u001b[43m,\u001b[49m\u001b[43m \u001b[49m\u001b[43mplot_true\u001b[49m\u001b[43m \u001b[49m\u001b[38;5;241;43m=\u001b[39;49m\u001b[43m \u001b[49m\u001b[38;5;28;43;01mTrue\u001b[39;49;00m\u001b[43m,\u001b[49m\u001b[43m \u001b[49m\u001b[43mcompute_time\u001b[49m\u001b[38;5;241;43m=\u001b[39;49m\u001b[38;5;28;43;01mFalse\u001b[39;49;00m\u001b[43m)\u001b[49m\n",
      "\u001b[0;31mTypeError\u001b[0m: FreqBandsExplainer.explain() got an unexpected keyword argument 'save_csv'"
     ]
    }
   ],
   "source": [
    "sleep_bands = [[0.5, 4], [4, 8], [8, 11.5], [11.5, 15.5], [15.5, 30], [30, 49.5]]\n",
    "sleep_bands_names = [\"Delta\", \"Theta\", \"Alpha\", \"Sigma\", \"Beta\", \"Gamma\"]\n",
    "\n",
    "expl.explain(\n",
    "    sleep_bands, sleep_bands_names, plot_pred=True, plot_true=True, compute_time=False\n",
    ")"
   ]
  }
 ],
 "metadata": {
  "accelerator": "GPU",
  "colab": {
   "gpuType": "T4",
   "provenance": []
  },
  "kernelspec": {
   "display_name": "Python 3",
   "name": "python3"
  },
  "language_info": {
   "name": "python"
  }
 },
 "nbformat": 4,
 "nbformat_minor": 0
}
